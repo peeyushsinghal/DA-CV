{
  "nbformat": 4,
  "nbformat_minor": 0,
  "metadata": {
    "colab": {
      "provenance": [],
      "authorship_tag": "ABX9TyOB6Xb6vsBQOrgEjOFEc7uw",
      "include_colab_link": true
    },
    "kernelspec": {
      "name": "python3",
      "display_name": "Python 3"
    },
    "language_info": {
      "name": "python"
    },
    "accelerator": "GPU",
    "widgets": {
      "application/vnd.jupyter.widget-state+json": {
        "4f53b30263a2456fa1176c8d547c0494": {
          "model_module": "@jupyter-widgets/controls",
          "model_name": "HBoxModel",
          "model_module_version": "1.5.0",
          "state": {
            "_dom_classes": [],
            "_model_module": "@jupyter-widgets/controls",
            "_model_module_version": "1.5.0",
            "_model_name": "HBoxModel",
            "_view_count": null,
            "_view_module": "@jupyter-widgets/controls",
            "_view_module_version": "1.5.0",
            "_view_name": "HBoxView",
            "box_style": "",
            "children": [
              "IPY_MODEL_614396145b3f49aa9f74ed05864e63c5",
              "IPY_MODEL_fc9aa442aa34406f94158f7adf02ed07",
              "IPY_MODEL_f71f54534a284cca83218328e7383676"
            ],
            "layout": "IPY_MODEL_4b16511cf84d46938f82cf5dc0a3bae8"
          }
        },
        "614396145b3f49aa9f74ed05864e63c5": {
          "model_module": "@jupyter-widgets/controls",
          "model_name": "HTMLModel",
          "model_module_version": "1.5.0",
          "state": {
            "_dom_classes": [],
            "_model_module": "@jupyter-widgets/controls",
            "_model_module_version": "1.5.0",
            "_model_name": "HTMLModel",
            "_view_count": null,
            "_view_module": "@jupyter-widgets/controls",
            "_view_module_version": "1.5.0",
            "_view_name": "HTMLView",
            "description": "",
            "description_tooltip": null,
            "layout": "IPY_MODEL_4fcfc53e3335424b9e617db983ee5bb5",
            "placeholder": "​",
            "style": "IPY_MODEL_fd9b325386db4e46bbe397b9608f662b",
            "value": "100%"
          }
        },
        "fc9aa442aa34406f94158f7adf02ed07": {
          "model_module": "@jupyter-widgets/controls",
          "model_name": "FloatProgressModel",
          "model_module_version": "1.5.0",
          "state": {
            "_dom_classes": [],
            "_model_module": "@jupyter-widgets/controls",
            "_model_module_version": "1.5.0",
            "_model_name": "FloatProgressModel",
            "_view_count": null,
            "_view_module": "@jupyter-widgets/controls",
            "_view_module_version": "1.5.0",
            "_view_name": "ProgressView",
            "bar_style": "success",
            "description": "",
            "description_tooltip": null,
            "layout": "IPY_MODEL_c318a5caab4b441ba2a8b08fa30b6feb",
            "max": 9912422,
            "min": 0,
            "orientation": "horizontal",
            "style": "IPY_MODEL_692b3be8cd7c4270897d450923809ab8",
            "value": 9912422
          }
        },
        "f71f54534a284cca83218328e7383676": {
          "model_module": "@jupyter-widgets/controls",
          "model_name": "HTMLModel",
          "model_module_version": "1.5.0",
          "state": {
            "_dom_classes": [],
            "_model_module": "@jupyter-widgets/controls",
            "_model_module_version": "1.5.0",
            "_model_name": "HTMLModel",
            "_view_count": null,
            "_view_module": "@jupyter-widgets/controls",
            "_view_module_version": "1.5.0",
            "_view_name": "HTMLView",
            "description": "",
            "description_tooltip": null,
            "layout": "IPY_MODEL_c1a7ea75433d42818b8f4e69f296190b",
            "placeholder": "​",
            "style": "IPY_MODEL_781b214af6a74932aa01b6cb6c47460f",
            "value": " 9912422/9912422 [00:00&lt;00:00, 40112450.83it/s]"
          }
        },
        "4b16511cf84d46938f82cf5dc0a3bae8": {
          "model_module": "@jupyter-widgets/base",
          "model_name": "LayoutModel",
          "model_module_version": "1.2.0",
          "state": {
            "_model_module": "@jupyter-widgets/base",
            "_model_module_version": "1.2.0",
            "_model_name": "LayoutModel",
            "_view_count": null,
            "_view_module": "@jupyter-widgets/base",
            "_view_module_version": "1.2.0",
            "_view_name": "LayoutView",
            "align_content": null,
            "align_items": null,
            "align_self": null,
            "border": null,
            "bottom": null,
            "display": null,
            "flex": null,
            "flex_flow": null,
            "grid_area": null,
            "grid_auto_columns": null,
            "grid_auto_flow": null,
            "grid_auto_rows": null,
            "grid_column": null,
            "grid_gap": null,
            "grid_row": null,
            "grid_template_areas": null,
            "grid_template_columns": null,
            "grid_template_rows": null,
            "height": null,
            "justify_content": null,
            "justify_items": null,
            "left": null,
            "margin": null,
            "max_height": null,
            "max_width": null,
            "min_height": null,
            "min_width": null,
            "object_fit": null,
            "object_position": null,
            "order": null,
            "overflow": null,
            "overflow_x": null,
            "overflow_y": null,
            "padding": null,
            "right": null,
            "top": null,
            "visibility": null,
            "width": null
          }
        },
        "4fcfc53e3335424b9e617db983ee5bb5": {
          "model_module": "@jupyter-widgets/base",
          "model_name": "LayoutModel",
          "model_module_version": "1.2.0",
          "state": {
            "_model_module": "@jupyter-widgets/base",
            "_model_module_version": "1.2.0",
            "_model_name": "LayoutModel",
            "_view_count": null,
            "_view_module": "@jupyter-widgets/base",
            "_view_module_version": "1.2.0",
            "_view_name": "LayoutView",
            "align_content": null,
            "align_items": null,
            "align_self": null,
            "border": null,
            "bottom": null,
            "display": null,
            "flex": null,
            "flex_flow": null,
            "grid_area": null,
            "grid_auto_columns": null,
            "grid_auto_flow": null,
            "grid_auto_rows": null,
            "grid_column": null,
            "grid_gap": null,
            "grid_row": null,
            "grid_template_areas": null,
            "grid_template_columns": null,
            "grid_template_rows": null,
            "height": null,
            "justify_content": null,
            "justify_items": null,
            "left": null,
            "margin": null,
            "max_height": null,
            "max_width": null,
            "min_height": null,
            "min_width": null,
            "object_fit": null,
            "object_position": null,
            "order": null,
            "overflow": null,
            "overflow_x": null,
            "overflow_y": null,
            "padding": null,
            "right": null,
            "top": null,
            "visibility": null,
            "width": null
          }
        },
        "fd9b325386db4e46bbe397b9608f662b": {
          "model_module": "@jupyter-widgets/controls",
          "model_name": "DescriptionStyleModel",
          "model_module_version": "1.5.0",
          "state": {
            "_model_module": "@jupyter-widgets/controls",
            "_model_module_version": "1.5.0",
            "_model_name": "DescriptionStyleModel",
            "_view_count": null,
            "_view_module": "@jupyter-widgets/base",
            "_view_module_version": "1.2.0",
            "_view_name": "StyleView",
            "description_width": ""
          }
        },
        "c318a5caab4b441ba2a8b08fa30b6feb": {
          "model_module": "@jupyter-widgets/base",
          "model_name": "LayoutModel",
          "model_module_version": "1.2.0",
          "state": {
            "_model_module": "@jupyter-widgets/base",
            "_model_module_version": "1.2.0",
            "_model_name": "LayoutModel",
            "_view_count": null,
            "_view_module": "@jupyter-widgets/base",
            "_view_module_version": "1.2.0",
            "_view_name": "LayoutView",
            "align_content": null,
            "align_items": null,
            "align_self": null,
            "border": null,
            "bottom": null,
            "display": null,
            "flex": null,
            "flex_flow": null,
            "grid_area": null,
            "grid_auto_columns": null,
            "grid_auto_flow": null,
            "grid_auto_rows": null,
            "grid_column": null,
            "grid_gap": null,
            "grid_row": null,
            "grid_template_areas": null,
            "grid_template_columns": null,
            "grid_template_rows": null,
            "height": null,
            "justify_content": null,
            "justify_items": null,
            "left": null,
            "margin": null,
            "max_height": null,
            "max_width": null,
            "min_height": null,
            "min_width": null,
            "object_fit": null,
            "object_position": null,
            "order": null,
            "overflow": null,
            "overflow_x": null,
            "overflow_y": null,
            "padding": null,
            "right": null,
            "top": null,
            "visibility": null,
            "width": null
          }
        },
        "692b3be8cd7c4270897d450923809ab8": {
          "model_module": "@jupyter-widgets/controls",
          "model_name": "ProgressStyleModel",
          "model_module_version": "1.5.0",
          "state": {
            "_model_module": "@jupyter-widgets/controls",
            "_model_module_version": "1.5.0",
            "_model_name": "ProgressStyleModel",
            "_view_count": null,
            "_view_module": "@jupyter-widgets/base",
            "_view_module_version": "1.2.0",
            "_view_name": "StyleView",
            "bar_color": null,
            "description_width": ""
          }
        },
        "c1a7ea75433d42818b8f4e69f296190b": {
          "model_module": "@jupyter-widgets/base",
          "model_name": "LayoutModel",
          "model_module_version": "1.2.0",
          "state": {
            "_model_module": "@jupyter-widgets/base",
            "_model_module_version": "1.2.0",
            "_model_name": "LayoutModel",
            "_view_count": null,
            "_view_module": "@jupyter-widgets/base",
            "_view_module_version": "1.2.0",
            "_view_name": "LayoutView",
            "align_content": null,
            "align_items": null,
            "align_self": null,
            "border": null,
            "bottom": null,
            "display": null,
            "flex": null,
            "flex_flow": null,
            "grid_area": null,
            "grid_auto_columns": null,
            "grid_auto_flow": null,
            "grid_auto_rows": null,
            "grid_column": null,
            "grid_gap": null,
            "grid_row": null,
            "grid_template_areas": null,
            "grid_template_columns": null,
            "grid_template_rows": null,
            "height": null,
            "justify_content": null,
            "justify_items": null,
            "left": null,
            "margin": null,
            "max_height": null,
            "max_width": null,
            "min_height": null,
            "min_width": null,
            "object_fit": null,
            "object_position": null,
            "order": null,
            "overflow": null,
            "overflow_x": null,
            "overflow_y": null,
            "padding": null,
            "right": null,
            "top": null,
            "visibility": null,
            "width": null
          }
        },
        "781b214af6a74932aa01b6cb6c47460f": {
          "model_module": "@jupyter-widgets/controls",
          "model_name": "DescriptionStyleModel",
          "model_module_version": "1.5.0",
          "state": {
            "_model_module": "@jupyter-widgets/controls",
            "_model_module_version": "1.5.0",
            "_model_name": "DescriptionStyleModel",
            "_view_count": null,
            "_view_module": "@jupyter-widgets/base",
            "_view_module_version": "1.2.0",
            "_view_name": "StyleView",
            "description_width": ""
          }
        },
        "f863fe27dab4426a9133aa3ffafb1883": {
          "model_module": "@jupyter-widgets/controls",
          "model_name": "HBoxModel",
          "model_module_version": "1.5.0",
          "state": {
            "_dom_classes": [],
            "_model_module": "@jupyter-widgets/controls",
            "_model_module_version": "1.5.0",
            "_model_name": "HBoxModel",
            "_view_count": null,
            "_view_module": "@jupyter-widgets/controls",
            "_view_module_version": "1.5.0",
            "_view_name": "HBoxView",
            "box_style": "",
            "children": [
              "IPY_MODEL_0f9861a9ada04f2481c3915095bff0b5",
              "IPY_MODEL_ae2c348ce0f544d5bbc15a20c464a6d8",
              "IPY_MODEL_4920d66c91834d8290645e923967e091"
            ],
            "layout": "IPY_MODEL_fbeaa42a86df49e3832ca08596e5de8c"
          }
        },
        "0f9861a9ada04f2481c3915095bff0b5": {
          "model_module": "@jupyter-widgets/controls",
          "model_name": "HTMLModel",
          "model_module_version": "1.5.0",
          "state": {
            "_dom_classes": [],
            "_model_module": "@jupyter-widgets/controls",
            "_model_module_version": "1.5.0",
            "_model_name": "HTMLModel",
            "_view_count": null,
            "_view_module": "@jupyter-widgets/controls",
            "_view_module_version": "1.5.0",
            "_view_name": "HTMLView",
            "description": "",
            "description_tooltip": null,
            "layout": "IPY_MODEL_779f6df9c6fe4b7a8875769f70ca7634",
            "placeholder": "​",
            "style": "IPY_MODEL_2ddca7e7fd9d49208035be2a546d101d",
            "value": "100%"
          }
        },
        "ae2c348ce0f544d5bbc15a20c464a6d8": {
          "model_module": "@jupyter-widgets/controls",
          "model_name": "FloatProgressModel",
          "model_module_version": "1.5.0",
          "state": {
            "_dom_classes": [],
            "_model_module": "@jupyter-widgets/controls",
            "_model_module_version": "1.5.0",
            "_model_name": "FloatProgressModel",
            "_view_count": null,
            "_view_module": "@jupyter-widgets/controls",
            "_view_module_version": "1.5.0",
            "_view_name": "ProgressView",
            "bar_style": "success",
            "description": "",
            "description_tooltip": null,
            "layout": "IPY_MODEL_f8b008b13c8b4f419be41d562596667d",
            "max": 28881,
            "min": 0,
            "orientation": "horizontal",
            "style": "IPY_MODEL_5541cb294cb647e8bf722eed4f777e7e",
            "value": 28881
          }
        },
        "4920d66c91834d8290645e923967e091": {
          "model_module": "@jupyter-widgets/controls",
          "model_name": "HTMLModel",
          "model_module_version": "1.5.0",
          "state": {
            "_dom_classes": [],
            "_model_module": "@jupyter-widgets/controls",
            "_model_module_version": "1.5.0",
            "_model_name": "HTMLModel",
            "_view_count": null,
            "_view_module": "@jupyter-widgets/controls",
            "_view_module_version": "1.5.0",
            "_view_name": "HTMLView",
            "description": "",
            "description_tooltip": null,
            "layout": "IPY_MODEL_d1aa62d45fd34c5b8717780b2af10e39",
            "placeholder": "​",
            "style": "IPY_MODEL_a59ce5265f1849059489002ad5eff86f",
            "value": " 28881/28881 [00:00&lt;00:00, 942382.21it/s]"
          }
        },
        "fbeaa42a86df49e3832ca08596e5de8c": {
          "model_module": "@jupyter-widgets/base",
          "model_name": "LayoutModel",
          "model_module_version": "1.2.0",
          "state": {
            "_model_module": "@jupyter-widgets/base",
            "_model_module_version": "1.2.0",
            "_model_name": "LayoutModel",
            "_view_count": null,
            "_view_module": "@jupyter-widgets/base",
            "_view_module_version": "1.2.0",
            "_view_name": "LayoutView",
            "align_content": null,
            "align_items": null,
            "align_self": null,
            "border": null,
            "bottom": null,
            "display": null,
            "flex": null,
            "flex_flow": null,
            "grid_area": null,
            "grid_auto_columns": null,
            "grid_auto_flow": null,
            "grid_auto_rows": null,
            "grid_column": null,
            "grid_gap": null,
            "grid_row": null,
            "grid_template_areas": null,
            "grid_template_columns": null,
            "grid_template_rows": null,
            "height": null,
            "justify_content": null,
            "justify_items": null,
            "left": null,
            "margin": null,
            "max_height": null,
            "max_width": null,
            "min_height": null,
            "min_width": null,
            "object_fit": null,
            "object_position": null,
            "order": null,
            "overflow": null,
            "overflow_x": null,
            "overflow_y": null,
            "padding": null,
            "right": null,
            "top": null,
            "visibility": null,
            "width": null
          }
        },
        "779f6df9c6fe4b7a8875769f70ca7634": {
          "model_module": "@jupyter-widgets/base",
          "model_name": "LayoutModel",
          "model_module_version": "1.2.0",
          "state": {
            "_model_module": "@jupyter-widgets/base",
            "_model_module_version": "1.2.0",
            "_model_name": "LayoutModel",
            "_view_count": null,
            "_view_module": "@jupyter-widgets/base",
            "_view_module_version": "1.2.0",
            "_view_name": "LayoutView",
            "align_content": null,
            "align_items": null,
            "align_self": null,
            "border": null,
            "bottom": null,
            "display": null,
            "flex": null,
            "flex_flow": null,
            "grid_area": null,
            "grid_auto_columns": null,
            "grid_auto_flow": null,
            "grid_auto_rows": null,
            "grid_column": null,
            "grid_gap": null,
            "grid_row": null,
            "grid_template_areas": null,
            "grid_template_columns": null,
            "grid_template_rows": null,
            "height": null,
            "justify_content": null,
            "justify_items": null,
            "left": null,
            "margin": null,
            "max_height": null,
            "max_width": null,
            "min_height": null,
            "min_width": null,
            "object_fit": null,
            "object_position": null,
            "order": null,
            "overflow": null,
            "overflow_x": null,
            "overflow_y": null,
            "padding": null,
            "right": null,
            "top": null,
            "visibility": null,
            "width": null
          }
        },
        "2ddca7e7fd9d49208035be2a546d101d": {
          "model_module": "@jupyter-widgets/controls",
          "model_name": "DescriptionStyleModel",
          "model_module_version": "1.5.0",
          "state": {
            "_model_module": "@jupyter-widgets/controls",
            "_model_module_version": "1.5.0",
            "_model_name": "DescriptionStyleModel",
            "_view_count": null,
            "_view_module": "@jupyter-widgets/base",
            "_view_module_version": "1.2.0",
            "_view_name": "StyleView",
            "description_width": ""
          }
        },
        "f8b008b13c8b4f419be41d562596667d": {
          "model_module": "@jupyter-widgets/base",
          "model_name": "LayoutModel",
          "model_module_version": "1.2.0",
          "state": {
            "_model_module": "@jupyter-widgets/base",
            "_model_module_version": "1.2.0",
            "_model_name": "LayoutModel",
            "_view_count": null,
            "_view_module": "@jupyter-widgets/base",
            "_view_module_version": "1.2.0",
            "_view_name": "LayoutView",
            "align_content": null,
            "align_items": null,
            "align_self": null,
            "border": null,
            "bottom": null,
            "display": null,
            "flex": null,
            "flex_flow": null,
            "grid_area": null,
            "grid_auto_columns": null,
            "grid_auto_flow": null,
            "grid_auto_rows": null,
            "grid_column": null,
            "grid_gap": null,
            "grid_row": null,
            "grid_template_areas": null,
            "grid_template_columns": null,
            "grid_template_rows": null,
            "height": null,
            "justify_content": null,
            "justify_items": null,
            "left": null,
            "margin": null,
            "max_height": null,
            "max_width": null,
            "min_height": null,
            "min_width": null,
            "object_fit": null,
            "object_position": null,
            "order": null,
            "overflow": null,
            "overflow_x": null,
            "overflow_y": null,
            "padding": null,
            "right": null,
            "top": null,
            "visibility": null,
            "width": null
          }
        },
        "5541cb294cb647e8bf722eed4f777e7e": {
          "model_module": "@jupyter-widgets/controls",
          "model_name": "ProgressStyleModel",
          "model_module_version": "1.5.0",
          "state": {
            "_model_module": "@jupyter-widgets/controls",
            "_model_module_version": "1.5.0",
            "_model_name": "ProgressStyleModel",
            "_view_count": null,
            "_view_module": "@jupyter-widgets/base",
            "_view_module_version": "1.2.0",
            "_view_name": "StyleView",
            "bar_color": null,
            "description_width": ""
          }
        },
        "d1aa62d45fd34c5b8717780b2af10e39": {
          "model_module": "@jupyter-widgets/base",
          "model_name": "LayoutModel",
          "model_module_version": "1.2.0",
          "state": {
            "_model_module": "@jupyter-widgets/base",
            "_model_module_version": "1.2.0",
            "_model_name": "LayoutModel",
            "_view_count": null,
            "_view_module": "@jupyter-widgets/base",
            "_view_module_version": "1.2.0",
            "_view_name": "LayoutView",
            "align_content": null,
            "align_items": null,
            "align_self": null,
            "border": null,
            "bottom": null,
            "display": null,
            "flex": null,
            "flex_flow": null,
            "grid_area": null,
            "grid_auto_columns": null,
            "grid_auto_flow": null,
            "grid_auto_rows": null,
            "grid_column": null,
            "grid_gap": null,
            "grid_row": null,
            "grid_template_areas": null,
            "grid_template_columns": null,
            "grid_template_rows": null,
            "height": null,
            "justify_content": null,
            "justify_items": null,
            "left": null,
            "margin": null,
            "max_height": null,
            "max_width": null,
            "min_height": null,
            "min_width": null,
            "object_fit": null,
            "object_position": null,
            "order": null,
            "overflow": null,
            "overflow_x": null,
            "overflow_y": null,
            "padding": null,
            "right": null,
            "top": null,
            "visibility": null,
            "width": null
          }
        },
        "a59ce5265f1849059489002ad5eff86f": {
          "model_module": "@jupyter-widgets/controls",
          "model_name": "DescriptionStyleModel",
          "model_module_version": "1.5.0",
          "state": {
            "_model_module": "@jupyter-widgets/controls",
            "_model_module_version": "1.5.0",
            "_model_name": "DescriptionStyleModel",
            "_view_count": null,
            "_view_module": "@jupyter-widgets/base",
            "_view_module_version": "1.2.0",
            "_view_name": "StyleView",
            "description_width": ""
          }
        },
        "66c7d2820d734f4ca803a77f6a1309ba": {
          "model_module": "@jupyter-widgets/controls",
          "model_name": "HBoxModel",
          "model_module_version": "1.5.0",
          "state": {
            "_dom_classes": [],
            "_model_module": "@jupyter-widgets/controls",
            "_model_module_version": "1.5.0",
            "_model_name": "HBoxModel",
            "_view_count": null,
            "_view_module": "@jupyter-widgets/controls",
            "_view_module_version": "1.5.0",
            "_view_name": "HBoxView",
            "box_style": "",
            "children": [
              "IPY_MODEL_61675a8e831545148a8a58e9e11d0cb6",
              "IPY_MODEL_ae6b373a4b564371af1cafe8d5ea9d3c",
              "IPY_MODEL_5d00dde146544a65884d12ca2abe92fb"
            ],
            "layout": "IPY_MODEL_66b85a98b3d04d37bcd55bb980f20456"
          }
        },
        "61675a8e831545148a8a58e9e11d0cb6": {
          "model_module": "@jupyter-widgets/controls",
          "model_name": "HTMLModel",
          "model_module_version": "1.5.0",
          "state": {
            "_dom_classes": [],
            "_model_module": "@jupyter-widgets/controls",
            "_model_module_version": "1.5.0",
            "_model_name": "HTMLModel",
            "_view_count": null,
            "_view_module": "@jupyter-widgets/controls",
            "_view_module_version": "1.5.0",
            "_view_name": "HTMLView",
            "description": "",
            "description_tooltip": null,
            "layout": "IPY_MODEL_6f61660a43d74719ac5b8d62bf3e7e8a",
            "placeholder": "​",
            "style": "IPY_MODEL_78d051dcd65d4967a10c8910fa6f27ee",
            "value": "100%"
          }
        },
        "ae6b373a4b564371af1cafe8d5ea9d3c": {
          "model_module": "@jupyter-widgets/controls",
          "model_name": "FloatProgressModel",
          "model_module_version": "1.5.0",
          "state": {
            "_dom_classes": [],
            "_model_module": "@jupyter-widgets/controls",
            "_model_module_version": "1.5.0",
            "_model_name": "FloatProgressModel",
            "_view_count": null,
            "_view_module": "@jupyter-widgets/controls",
            "_view_module_version": "1.5.0",
            "_view_name": "ProgressView",
            "bar_style": "success",
            "description": "",
            "description_tooltip": null,
            "layout": "IPY_MODEL_0844844250c646d8bf234fb5490fb15d",
            "max": 1648877,
            "min": 0,
            "orientation": "horizontal",
            "style": "IPY_MODEL_7d4ed0341a814d7aa1dbcd2628649ac1",
            "value": 1648877
          }
        },
        "5d00dde146544a65884d12ca2abe92fb": {
          "model_module": "@jupyter-widgets/controls",
          "model_name": "HTMLModel",
          "model_module_version": "1.5.0",
          "state": {
            "_dom_classes": [],
            "_model_module": "@jupyter-widgets/controls",
            "_model_module_version": "1.5.0",
            "_model_name": "HTMLModel",
            "_view_count": null,
            "_view_module": "@jupyter-widgets/controls",
            "_view_module_version": "1.5.0",
            "_view_name": "HTMLView",
            "description": "",
            "description_tooltip": null,
            "layout": "IPY_MODEL_b37eebf953c4442abf1e574b7dc90764",
            "placeholder": "​",
            "style": "IPY_MODEL_e5a1b5a614e349bb8410df97ee4d8b2f",
            "value": " 1648877/1648877 [00:00&lt;00:00, 19725592.61it/s]"
          }
        },
        "66b85a98b3d04d37bcd55bb980f20456": {
          "model_module": "@jupyter-widgets/base",
          "model_name": "LayoutModel",
          "model_module_version": "1.2.0",
          "state": {
            "_model_module": "@jupyter-widgets/base",
            "_model_module_version": "1.2.0",
            "_model_name": "LayoutModel",
            "_view_count": null,
            "_view_module": "@jupyter-widgets/base",
            "_view_module_version": "1.2.0",
            "_view_name": "LayoutView",
            "align_content": null,
            "align_items": null,
            "align_self": null,
            "border": null,
            "bottom": null,
            "display": null,
            "flex": null,
            "flex_flow": null,
            "grid_area": null,
            "grid_auto_columns": null,
            "grid_auto_flow": null,
            "grid_auto_rows": null,
            "grid_column": null,
            "grid_gap": null,
            "grid_row": null,
            "grid_template_areas": null,
            "grid_template_columns": null,
            "grid_template_rows": null,
            "height": null,
            "justify_content": null,
            "justify_items": null,
            "left": null,
            "margin": null,
            "max_height": null,
            "max_width": null,
            "min_height": null,
            "min_width": null,
            "object_fit": null,
            "object_position": null,
            "order": null,
            "overflow": null,
            "overflow_x": null,
            "overflow_y": null,
            "padding": null,
            "right": null,
            "top": null,
            "visibility": null,
            "width": null
          }
        },
        "6f61660a43d74719ac5b8d62bf3e7e8a": {
          "model_module": "@jupyter-widgets/base",
          "model_name": "LayoutModel",
          "model_module_version": "1.2.0",
          "state": {
            "_model_module": "@jupyter-widgets/base",
            "_model_module_version": "1.2.0",
            "_model_name": "LayoutModel",
            "_view_count": null,
            "_view_module": "@jupyter-widgets/base",
            "_view_module_version": "1.2.0",
            "_view_name": "LayoutView",
            "align_content": null,
            "align_items": null,
            "align_self": null,
            "border": null,
            "bottom": null,
            "display": null,
            "flex": null,
            "flex_flow": null,
            "grid_area": null,
            "grid_auto_columns": null,
            "grid_auto_flow": null,
            "grid_auto_rows": null,
            "grid_column": null,
            "grid_gap": null,
            "grid_row": null,
            "grid_template_areas": null,
            "grid_template_columns": null,
            "grid_template_rows": null,
            "height": null,
            "justify_content": null,
            "justify_items": null,
            "left": null,
            "margin": null,
            "max_height": null,
            "max_width": null,
            "min_height": null,
            "min_width": null,
            "object_fit": null,
            "object_position": null,
            "order": null,
            "overflow": null,
            "overflow_x": null,
            "overflow_y": null,
            "padding": null,
            "right": null,
            "top": null,
            "visibility": null,
            "width": null
          }
        },
        "78d051dcd65d4967a10c8910fa6f27ee": {
          "model_module": "@jupyter-widgets/controls",
          "model_name": "DescriptionStyleModel",
          "model_module_version": "1.5.0",
          "state": {
            "_model_module": "@jupyter-widgets/controls",
            "_model_module_version": "1.5.0",
            "_model_name": "DescriptionStyleModel",
            "_view_count": null,
            "_view_module": "@jupyter-widgets/base",
            "_view_module_version": "1.2.0",
            "_view_name": "StyleView",
            "description_width": ""
          }
        },
        "0844844250c646d8bf234fb5490fb15d": {
          "model_module": "@jupyter-widgets/base",
          "model_name": "LayoutModel",
          "model_module_version": "1.2.0",
          "state": {
            "_model_module": "@jupyter-widgets/base",
            "_model_module_version": "1.2.0",
            "_model_name": "LayoutModel",
            "_view_count": null,
            "_view_module": "@jupyter-widgets/base",
            "_view_module_version": "1.2.0",
            "_view_name": "LayoutView",
            "align_content": null,
            "align_items": null,
            "align_self": null,
            "border": null,
            "bottom": null,
            "display": null,
            "flex": null,
            "flex_flow": null,
            "grid_area": null,
            "grid_auto_columns": null,
            "grid_auto_flow": null,
            "grid_auto_rows": null,
            "grid_column": null,
            "grid_gap": null,
            "grid_row": null,
            "grid_template_areas": null,
            "grid_template_columns": null,
            "grid_template_rows": null,
            "height": null,
            "justify_content": null,
            "justify_items": null,
            "left": null,
            "margin": null,
            "max_height": null,
            "max_width": null,
            "min_height": null,
            "min_width": null,
            "object_fit": null,
            "object_position": null,
            "order": null,
            "overflow": null,
            "overflow_x": null,
            "overflow_y": null,
            "padding": null,
            "right": null,
            "top": null,
            "visibility": null,
            "width": null
          }
        },
        "7d4ed0341a814d7aa1dbcd2628649ac1": {
          "model_module": "@jupyter-widgets/controls",
          "model_name": "ProgressStyleModel",
          "model_module_version": "1.5.0",
          "state": {
            "_model_module": "@jupyter-widgets/controls",
            "_model_module_version": "1.5.0",
            "_model_name": "ProgressStyleModel",
            "_view_count": null,
            "_view_module": "@jupyter-widgets/base",
            "_view_module_version": "1.2.0",
            "_view_name": "StyleView",
            "bar_color": null,
            "description_width": ""
          }
        },
        "b37eebf953c4442abf1e574b7dc90764": {
          "model_module": "@jupyter-widgets/base",
          "model_name": "LayoutModel",
          "model_module_version": "1.2.0",
          "state": {
            "_model_module": "@jupyter-widgets/base",
            "_model_module_version": "1.2.0",
            "_model_name": "LayoutModel",
            "_view_count": null,
            "_view_module": "@jupyter-widgets/base",
            "_view_module_version": "1.2.0",
            "_view_name": "LayoutView",
            "align_content": null,
            "align_items": null,
            "align_self": null,
            "border": null,
            "bottom": null,
            "display": null,
            "flex": null,
            "flex_flow": null,
            "grid_area": null,
            "grid_auto_columns": null,
            "grid_auto_flow": null,
            "grid_auto_rows": null,
            "grid_column": null,
            "grid_gap": null,
            "grid_row": null,
            "grid_template_areas": null,
            "grid_template_columns": null,
            "grid_template_rows": null,
            "height": null,
            "justify_content": null,
            "justify_items": null,
            "left": null,
            "margin": null,
            "max_height": null,
            "max_width": null,
            "min_height": null,
            "min_width": null,
            "object_fit": null,
            "object_position": null,
            "order": null,
            "overflow": null,
            "overflow_x": null,
            "overflow_y": null,
            "padding": null,
            "right": null,
            "top": null,
            "visibility": null,
            "width": null
          }
        },
        "e5a1b5a614e349bb8410df97ee4d8b2f": {
          "model_module": "@jupyter-widgets/controls",
          "model_name": "DescriptionStyleModel",
          "model_module_version": "1.5.0",
          "state": {
            "_model_module": "@jupyter-widgets/controls",
            "_model_module_version": "1.5.0",
            "_model_name": "DescriptionStyleModel",
            "_view_count": null,
            "_view_module": "@jupyter-widgets/base",
            "_view_module_version": "1.2.0",
            "_view_name": "StyleView",
            "description_width": ""
          }
        },
        "2115b01963564d2bbf8bd7645a794e4f": {
          "model_module": "@jupyter-widgets/controls",
          "model_name": "HBoxModel",
          "model_module_version": "1.5.0",
          "state": {
            "_dom_classes": [],
            "_model_module": "@jupyter-widgets/controls",
            "_model_module_version": "1.5.0",
            "_model_name": "HBoxModel",
            "_view_count": null,
            "_view_module": "@jupyter-widgets/controls",
            "_view_module_version": "1.5.0",
            "_view_name": "HBoxView",
            "box_style": "",
            "children": [
              "IPY_MODEL_17e34f54c4e74cc0b554335b888d26b8",
              "IPY_MODEL_b340e8bda4d148589524d146f3d95b42",
              "IPY_MODEL_cf09c2d204694d7889d7fa685e688aee"
            ],
            "layout": "IPY_MODEL_76619447eb2f43109f8595acc87778d1"
          }
        },
        "17e34f54c4e74cc0b554335b888d26b8": {
          "model_module": "@jupyter-widgets/controls",
          "model_name": "HTMLModel",
          "model_module_version": "1.5.0",
          "state": {
            "_dom_classes": [],
            "_model_module": "@jupyter-widgets/controls",
            "_model_module_version": "1.5.0",
            "_model_name": "HTMLModel",
            "_view_count": null,
            "_view_module": "@jupyter-widgets/controls",
            "_view_module_version": "1.5.0",
            "_view_name": "HTMLView",
            "description": "",
            "description_tooltip": null,
            "layout": "IPY_MODEL_377915114664496b906e7c28492677f9",
            "placeholder": "​",
            "style": "IPY_MODEL_5430a68931434f23b8fe1eb857a17972",
            "value": "100%"
          }
        },
        "b340e8bda4d148589524d146f3d95b42": {
          "model_module": "@jupyter-widgets/controls",
          "model_name": "FloatProgressModel",
          "model_module_version": "1.5.0",
          "state": {
            "_dom_classes": [],
            "_model_module": "@jupyter-widgets/controls",
            "_model_module_version": "1.5.0",
            "_model_name": "FloatProgressModel",
            "_view_count": null,
            "_view_module": "@jupyter-widgets/controls",
            "_view_module_version": "1.5.0",
            "_view_name": "ProgressView",
            "bar_style": "success",
            "description": "",
            "description_tooltip": null,
            "layout": "IPY_MODEL_2dcbe8235faf4680b7c518974344a0a7",
            "max": 4542,
            "min": 0,
            "orientation": "horizontal",
            "style": "IPY_MODEL_56e98a74db884ee1a65c58d081cb1ac6",
            "value": 4542
          }
        },
        "cf09c2d204694d7889d7fa685e688aee": {
          "model_module": "@jupyter-widgets/controls",
          "model_name": "HTMLModel",
          "model_module_version": "1.5.0",
          "state": {
            "_dom_classes": [],
            "_model_module": "@jupyter-widgets/controls",
            "_model_module_version": "1.5.0",
            "_model_name": "HTMLModel",
            "_view_count": null,
            "_view_module": "@jupyter-widgets/controls",
            "_view_module_version": "1.5.0",
            "_view_name": "HTMLView",
            "description": "",
            "description_tooltip": null,
            "layout": "IPY_MODEL_1ce46652c8b54d7ea2e1a514523f4d40",
            "placeholder": "​",
            "style": "IPY_MODEL_8a1035e3f372405298bd3e6e0fe765ff",
            "value": " 4542/4542 [00:00&lt;00:00, 228319.58it/s]"
          }
        },
        "76619447eb2f43109f8595acc87778d1": {
          "model_module": "@jupyter-widgets/base",
          "model_name": "LayoutModel",
          "model_module_version": "1.2.0",
          "state": {
            "_model_module": "@jupyter-widgets/base",
            "_model_module_version": "1.2.0",
            "_model_name": "LayoutModel",
            "_view_count": null,
            "_view_module": "@jupyter-widgets/base",
            "_view_module_version": "1.2.0",
            "_view_name": "LayoutView",
            "align_content": null,
            "align_items": null,
            "align_self": null,
            "border": null,
            "bottom": null,
            "display": null,
            "flex": null,
            "flex_flow": null,
            "grid_area": null,
            "grid_auto_columns": null,
            "grid_auto_flow": null,
            "grid_auto_rows": null,
            "grid_column": null,
            "grid_gap": null,
            "grid_row": null,
            "grid_template_areas": null,
            "grid_template_columns": null,
            "grid_template_rows": null,
            "height": null,
            "justify_content": null,
            "justify_items": null,
            "left": null,
            "margin": null,
            "max_height": null,
            "max_width": null,
            "min_height": null,
            "min_width": null,
            "object_fit": null,
            "object_position": null,
            "order": null,
            "overflow": null,
            "overflow_x": null,
            "overflow_y": null,
            "padding": null,
            "right": null,
            "top": null,
            "visibility": null,
            "width": null
          }
        },
        "377915114664496b906e7c28492677f9": {
          "model_module": "@jupyter-widgets/base",
          "model_name": "LayoutModel",
          "model_module_version": "1.2.0",
          "state": {
            "_model_module": "@jupyter-widgets/base",
            "_model_module_version": "1.2.0",
            "_model_name": "LayoutModel",
            "_view_count": null,
            "_view_module": "@jupyter-widgets/base",
            "_view_module_version": "1.2.0",
            "_view_name": "LayoutView",
            "align_content": null,
            "align_items": null,
            "align_self": null,
            "border": null,
            "bottom": null,
            "display": null,
            "flex": null,
            "flex_flow": null,
            "grid_area": null,
            "grid_auto_columns": null,
            "grid_auto_flow": null,
            "grid_auto_rows": null,
            "grid_column": null,
            "grid_gap": null,
            "grid_row": null,
            "grid_template_areas": null,
            "grid_template_columns": null,
            "grid_template_rows": null,
            "height": null,
            "justify_content": null,
            "justify_items": null,
            "left": null,
            "margin": null,
            "max_height": null,
            "max_width": null,
            "min_height": null,
            "min_width": null,
            "object_fit": null,
            "object_position": null,
            "order": null,
            "overflow": null,
            "overflow_x": null,
            "overflow_y": null,
            "padding": null,
            "right": null,
            "top": null,
            "visibility": null,
            "width": null
          }
        },
        "5430a68931434f23b8fe1eb857a17972": {
          "model_module": "@jupyter-widgets/controls",
          "model_name": "DescriptionStyleModel",
          "model_module_version": "1.5.0",
          "state": {
            "_model_module": "@jupyter-widgets/controls",
            "_model_module_version": "1.5.0",
            "_model_name": "DescriptionStyleModel",
            "_view_count": null,
            "_view_module": "@jupyter-widgets/base",
            "_view_module_version": "1.2.0",
            "_view_name": "StyleView",
            "description_width": ""
          }
        },
        "2dcbe8235faf4680b7c518974344a0a7": {
          "model_module": "@jupyter-widgets/base",
          "model_name": "LayoutModel",
          "model_module_version": "1.2.0",
          "state": {
            "_model_module": "@jupyter-widgets/base",
            "_model_module_version": "1.2.0",
            "_model_name": "LayoutModel",
            "_view_count": null,
            "_view_module": "@jupyter-widgets/base",
            "_view_module_version": "1.2.0",
            "_view_name": "LayoutView",
            "align_content": null,
            "align_items": null,
            "align_self": null,
            "border": null,
            "bottom": null,
            "display": null,
            "flex": null,
            "flex_flow": null,
            "grid_area": null,
            "grid_auto_columns": null,
            "grid_auto_flow": null,
            "grid_auto_rows": null,
            "grid_column": null,
            "grid_gap": null,
            "grid_row": null,
            "grid_template_areas": null,
            "grid_template_columns": null,
            "grid_template_rows": null,
            "height": null,
            "justify_content": null,
            "justify_items": null,
            "left": null,
            "margin": null,
            "max_height": null,
            "max_width": null,
            "min_height": null,
            "min_width": null,
            "object_fit": null,
            "object_position": null,
            "order": null,
            "overflow": null,
            "overflow_x": null,
            "overflow_y": null,
            "padding": null,
            "right": null,
            "top": null,
            "visibility": null,
            "width": null
          }
        },
        "56e98a74db884ee1a65c58d081cb1ac6": {
          "model_module": "@jupyter-widgets/controls",
          "model_name": "ProgressStyleModel",
          "model_module_version": "1.5.0",
          "state": {
            "_model_module": "@jupyter-widgets/controls",
            "_model_module_version": "1.5.0",
            "_model_name": "ProgressStyleModel",
            "_view_count": null,
            "_view_module": "@jupyter-widgets/base",
            "_view_module_version": "1.2.0",
            "_view_name": "StyleView",
            "bar_color": null,
            "description_width": ""
          }
        },
        "1ce46652c8b54d7ea2e1a514523f4d40": {
          "model_module": "@jupyter-widgets/base",
          "model_name": "LayoutModel",
          "model_module_version": "1.2.0",
          "state": {
            "_model_module": "@jupyter-widgets/base",
            "_model_module_version": "1.2.0",
            "_model_name": "LayoutModel",
            "_view_count": null,
            "_view_module": "@jupyter-widgets/base",
            "_view_module_version": "1.2.0",
            "_view_name": "LayoutView",
            "align_content": null,
            "align_items": null,
            "align_self": null,
            "border": null,
            "bottom": null,
            "display": null,
            "flex": null,
            "flex_flow": null,
            "grid_area": null,
            "grid_auto_columns": null,
            "grid_auto_flow": null,
            "grid_auto_rows": null,
            "grid_column": null,
            "grid_gap": null,
            "grid_row": null,
            "grid_template_areas": null,
            "grid_template_columns": null,
            "grid_template_rows": null,
            "height": null,
            "justify_content": null,
            "justify_items": null,
            "left": null,
            "margin": null,
            "max_height": null,
            "max_width": null,
            "min_height": null,
            "min_width": null,
            "object_fit": null,
            "object_position": null,
            "order": null,
            "overflow": null,
            "overflow_x": null,
            "overflow_y": null,
            "padding": null,
            "right": null,
            "top": null,
            "visibility": null,
            "width": null
          }
        },
        "8a1035e3f372405298bd3e6e0fe765ff": {
          "model_module": "@jupyter-widgets/controls",
          "model_name": "DescriptionStyleModel",
          "model_module_version": "1.5.0",
          "state": {
            "_model_module": "@jupyter-widgets/controls",
            "_model_module_version": "1.5.0",
            "_model_name": "DescriptionStyleModel",
            "_view_count": null,
            "_view_module": "@jupyter-widgets/base",
            "_view_module_version": "1.2.0",
            "_view_name": "StyleView",
            "description_width": ""
          }
        }
      }
    }
  },
  "cells": [
    {
      "cell_type": "markdown",
      "metadata": {
        "id": "view-in-github",
        "colab_type": "text"
      },
      "source": [
        "<a href=\"https://colab.research.google.com/github/peeyushsinghal/DA-CV/blob/main/domain_adaptation_cv_v2.ipynb\" target=\"_parent\"><img src=\"https://colab.research.google.com/assets/colab-badge.svg\" alt=\"Open In Colab\"/></a>"
      ]
    },
    {
      "cell_type": "code",
      "execution_count": null,
      "metadata": {
        "id": "NDO9nlouf60q"
      },
      "outputs": [],
      "source": [
        "# Setup\n",
        "%matplotlib inline\n",
        "import os\n",
        "import sys\n",
        "import torch\n",
        "import numpy as np\n",
        "import matplotlib.pyplot as plt"
      ]
    },
    {
      "cell_type": "code",
      "source": [
        "import torchvision as tv\n",
        "import torchvision.transforms as transforms\n",
        "import torch.nn as nn\n",
        "import torch.optim as optim\n",
        "import torch.nn.functional as F"
      ],
      "metadata": {
        "id": "G2Rz4ihZL4RV"
      },
      "execution_count": null,
      "outputs": []
    },
    {
      "cell_type": "code",
      "source": [
        "device = torch.device('cuda' if torch.cuda.is_available() else 'cpu')\n",
        "device"
      ],
      "metadata": {
        "colab": {
          "base_uri": "https://localhost:8080/"
        },
        "id": "195vTbJagGVm",
        "outputId": "8c1498f6-de01-4c94-d77f-67865055216a"
      },
      "execution_count": null,
      "outputs": [
        {
          "output_type": "execute_result",
          "data": {
            "text/plain": [
              "device(type='cuda')"
            ]
          },
          "metadata": {},
          "execution_count": 3
        }
      ]
    },
    {
      "cell_type": "code",
      "source": [
        "from google.colab import drive\n",
        "drive.mount('/content/gdrive')"
      ],
      "metadata": {
        "colab": {
          "base_uri": "https://localhost:8080/"
        },
        "id": "Pp_RxLwG6oe3",
        "outputId": "3de31a98-a454-4ff7-a08f-7ad0243ae303"
      },
      "execution_count": null,
      "outputs": [
        {
          "output_type": "stream",
          "name": "stdout",
          "text": [
            "Drive already mounted at /content/gdrive; to attempt to forcibly remount, call drive.mount(\"/content/gdrive\", force_remount=True).\n"
          ]
        }
      ]
    },
    {
      "cell_type": "code",
      "source": [
        "gdrive_file = '/content/gdrive/MyDrive/MNISTM/mnist_m.tar.gz'\n",
        "data_dir = '/content'"
      ],
      "metadata": {
        "id": "FYBn5agF7MZp"
      },
      "execution_count": null,
      "outputs": []
    },
    {
      "cell_type": "code",
      "source": [
        "# !wget https://github.com/peeyushsinghal/DA-CV/blob/main/data/test_mnist_m.tar.gz\n",
        "# !wget https://github.com/peeyushsinghal/DA-CV/blob/main/data/train_mnist_m.tar.gz"
      ],
      "metadata": {
        "id": "-7ULX2FqgNSP"
      },
      "execution_count": null,
      "outputs": []
    },
    {
      "cell_type": "code",
      "source": [
        "import tarfile\n",
        "my_tar = tarfile.open(gdrive_file, \"r:gz\")\n",
        "my_tar.extractall(data_dir) # specify which folder to extract to\n",
        "my_tar.close()"
      ],
      "metadata": {
        "id": "gM7pT55GOGAF"
      },
      "execution_count": null,
      "outputs": []
    },
    {
      "cell_type": "markdown",
      "source": [
        "Source is MNIST, Target is MNIST-M"
      ],
      "metadata": {
        "id": "I8we7c77L-5T"
      }
    },
    {
      "cell_type": "code",
      "source": [
        "image_size = 28\n",
        "batch_size = 4"
      ],
      "metadata": {
        "id": "sIRRuhczL9Y2"
      },
      "execution_count": null,
      "outputs": []
    },
    {
      "cell_type": "code",
      "source": [
        "tf_source = transforms.Compose([transforms.Resize(image_size),\n",
        "                          transforms.ToTensor(),\n",
        "                          transforms.Normalize(mean=(0.1307,), std=(0.3081,))\n",
        "                          ])\n",
        "tf_target = transforms.Compose([transforms.Resize(image_size),\n",
        "                          transforms.ToTensor(),\n",
        "                          transforms.Normalize(mean=(0.5, 0.5, 0.5), std=(0.5, 0.5, 0.5))\n",
        "                          ])"
      ],
      "metadata": {
        "id": "C-txEdDoJ_6g"
      },
      "execution_count": null,
      "outputs": []
    },
    {
      "cell_type": "markdown",
      "source": [
        "Downloading MNIST and creating a data loader"
      ],
      "metadata": {
        "id": "qDzf1rhzMsR5"
      }
    },
    {
      "cell_type": "code",
      "source": [
        "ds_source_train = tv.datasets.MNIST(root=\"./\", train=True, transform=tf_source, download=True)\n",
        "ds_source_val = tv.datasets.MNIST(root=\"./\", train=False, transform=tf_source, download=True)\n",
        "dl_source_train = torch.utils.data.DataLoader(ds_source_train, batch_size)\n",
        "dl_source_val = torch.utils.data.DataLoader(ds_source_val, batch_size)\n"
      ],
      "metadata": {
        "id": "2GkBcd7jMfkq",
        "outputId": "b2cb13a3-c033-4f73-9148-bf60cf6fc663",
        "colab": {
          "base_uri": "https://localhost:8080/",
          "height": 437,
          "referenced_widgets": [
            "4f53b30263a2456fa1176c8d547c0494",
            "614396145b3f49aa9f74ed05864e63c5",
            "fc9aa442aa34406f94158f7adf02ed07",
            "f71f54534a284cca83218328e7383676",
            "4b16511cf84d46938f82cf5dc0a3bae8",
            "4fcfc53e3335424b9e617db983ee5bb5",
            "fd9b325386db4e46bbe397b9608f662b",
            "c318a5caab4b441ba2a8b08fa30b6feb",
            "692b3be8cd7c4270897d450923809ab8",
            "c1a7ea75433d42818b8f4e69f296190b",
            "781b214af6a74932aa01b6cb6c47460f",
            "f863fe27dab4426a9133aa3ffafb1883",
            "0f9861a9ada04f2481c3915095bff0b5",
            "ae2c348ce0f544d5bbc15a20c464a6d8",
            "4920d66c91834d8290645e923967e091",
            "fbeaa42a86df49e3832ca08596e5de8c",
            "779f6df9c6fe4b7a8875769f70ca7634",
            "2ddca7e7fd9d49208035be2a546d101d",
            "f8b008b13c8b4f419be41d562596667d",
            "5541cb294cb647e8bf722eed4f777e7e",
            "d1aa62d45fd34c5b8717780b2af10e39",
            "a59ce5265f1849059489002ad5eff86f",
            "66c7d2820d734f4ca803a77f6a1309ba",
            "61675a8e831545148a8a58e9e11d0cb6",
            "ae6b373a4b564371af1cafe8d5ea9d3c",
            "5d00dde146544a65884d12ca2abe92fb",
            "66b85a98b3d04d37bcd55bb980f20456",
            "6f61660a43d74719ac5b8d62bf3e7e8a",
            "78d051dcd65d4967a10c8910fa6f27ee",
            "0844844250c646d8bf234fb5490fb15d",
            "7d4ed0341a814d7aa1dbcd2628649ac1",
            "b37eebf953c4442abf1e574b7dc90764",
            "e5a1b5a614e349bb8410df97ee4d8b2f",
            "2115b01963564d2bbf8bd7645a794e4f",
            "17e34f54c4e74cc0b554335b888d26b8",
            "b340e8bda4d148589524d146f3d95b42",
            "cf09c2d204694d7889d7fa685e688aee",
            "76619447eb2f43109f8595acc87778d1",
            "377915114664496b906e7c28492677f9",
            "5430a68931434f23b8fe1eb857a17972",
            "2dcbe8235faf4680b7c518974344a0a7",
            "56e98a74db884ee1a65c58d081cb1ac6",
            "1ce46652c8b54d7ea2e1a514523f4d40",
            "8a1035e3f372405298bd3e6e0fe765ff"
          ]
        }
      },
      "execution_count": null,
      "outputs": [
        {
          "output_type": "stream",
          "name": "stdout",
          "text": [
            "Downloading http://yann.lecun.com/exdb/mnist/train-images-idx3-ubyte.gz\n",
            "Downloading http://yann.lecun.com/exdb/mnist/train-images-idx3-ubyte.gz to ./MNIST/raw/train-images-idx3-ubyte.gz\n"
          ]
        },
        {
          "output_type": "display_data",
          "data": {
            "text/plain": [
              "  0%|          | 0/9912422 [00:00<?, ?it/s]"
            ],
            "application/vnd.jupyter.widget-view+json": {
              "version_major": 2,
              "version_minor": 0,
              "model_id": "4f53b30263a2456fa1176c8d547c0494"
            }
          },
          "metadata": {}
        },
        {
          "output_type": "stream",
          "name": "stdout",
          "text": [
            "Extracting ./MNIST/raw/train-images-idx3-ubyte.gz to ./MNIST/raw\n",
            "\n",
            "Downloading http://yann.lecun.com/exdb/mnist/train-labels-idx1-ubyte.gz\n",
            "Downloading http://yann.lecun.com/exdb/mnist/train-labels-idx1-ubyte.gz to ./MNIST/raw/train-labels-idx1-ubyte.gz\n"
          ]
        },
        {
          "output_type": "display_data",
          "data": {
            "text/plain": [
              "  0%|          | 0/28881 [00:00<?, ?it/s]"
            ],
            "application/vnd.jupyter.widget-view+json": {
              "version_major": 2,
              "version_minor": 0,
              "model_id": "f863fe27dab4426a9133aa3ffafb1883"
            }
          },
          "metadata": {}
        },
        {
          "output_type": "stream",
          "name": "stdout",
          "text": [
            "Extracting ./MNIST/raw/train-labels-idx1-ubyte.gz to ./MNIST/raw\n",
            "\n",
            "Downloading http://yann.lecun.com/exdb/mnist/t10k-images-idx3-ubyte.gz\n",
            "Downloading http://yann.lecun.com/exdb/mnist/t10k-images-idx3-ubyte.gz to ./MNIST/raw/t10k-images-idx3-ubyte.gz\n"
          ]
        },
        {
          "output_type": "display_data",
          "data": {
            "text/plain": [
              "  0%|          | 0/1648877 [00:00<?, ?it/s]"
            ],
            "application/vnd.jupyter.widget-view+json": {
              "version_major": 2,
              "version_minor": 0,
              "model_id": "66c7d2820d734f4ca803a77f6a1309ba"
            }
          },
          "metadata": {}
        },
        {
          "output_type": "stream",
          "name": "stdout",
          "text": [
            "Extracting ./MNIST/raw/t10k-images-idx3-ubyte.gz to ./MNIST/raw\n",
            "\n",
            "Downloading http://yann.lecun.com/exdb/mnist/t10k-labels-idx1-ubyte.gz\n",
            "Downloading http://yann.lecun.com/exdb/mnist/t10k-labels-idx1-ubyte.gz to ./MNIST/raw/t10k-labels-idx1-ubyte.gz\n"
          ]
        },
        {
          "output_type": "display_data",
          "data": {
            "text/plain": [
              "  0%|          | 0/4542 [00:00<?, ?it/s]"
            ],
            "application/vnd.jupyter.widget-view+json": {
              "version_major": 2,
              "version_minor": 0,
              "model_id": "2115b01963564d2bbf8bd7645a794e4f"
            }
          },
          "metadata": {}
        },
        {
          "output_type": "stream",
          "name": "stdout",
          "text": [
            "Extracting ./MNIST/raw/t10k-labels-idx1-ubyte.gz to ./MNIST/raw\n",
            "\n"
          ]
        }
      ]
    },
    {
      "cell_type": "markdown",
      "source": [
        "Working on MNIST-M Dataset"
      ],
      "metadata": {
        "id": "Qnp9JEyKMx3t"
      }
    },
    {
      "cell_type": "code",
      "source": [
        "import torch.utils.data as data\n",
        "from PIL import Image\n",
        "import os\n",
        "\n",
        "\n",
        "class MNISTMDataset(data.Dataset):\n",
        "    def __init__(self, data_root, data_list, transform=None):\n",
        "        self.root = data_root\n",
        "        self.transform = transform\n",
        "\n",
        "        f = open(data_list, 'r')\n",
        "        data_list = f.readlines()\n",
        "        f.close()\n",
        "\n",
        "        self.n_data = len(data_list)\n",
        "\n",
        "        self.img_paths = []\n",
        "        self.img_labels = []\n",
        "\n",
        "        for data in data_list:\n",
        "            self.img_paths.append(data[:-3])\n",
        "            self.img_labels.append(data[-2])\n",
        "\n",
        "    def __getitem__(self, item):\n",
        "        img_paths, labels = self.img_paths[item], self.img_labels[item]\n",
        "        imgs = Image.open(os.path.join(self.root, img_paths)).convert('RGB')\n",
        "\n",
        "        if self.transform is not None:\n",
        "            imgs = self.transform(imgs)\n",
        "            labels = int(labels)\n",
        "\n",
        "        return imgs, labels\n",
        "\n",
        "    def __len__(self):\n",
        "        return self.n_data"
      ],
      "metadata": {
        "id": "SbZl5mlDMxn0"
      },
      "execution_count": null,
      "outputs": []
    },
    {
      "cell_type": "code",
      "source": [
        "ds_target_train = MNISTMDataset(os.path.join(data_dir, 'mnist_m', 'mnist_m_train'),\n",
        "                          os.path.join(data_dir, 'mnist_m', 'mnist_m_train_labels.txt'),\n",
        "                         transform=tf_target)\n",
        "\n",
        "ds_target_val = MNISTMDataset(os.path.join(data_dir, 'mnist_m', 'mnist_m_test'),\n",
        "                          os.path.join(data_dir, 'mnist_m', 'mnist_m_test_labels.txt'),\n",
        "                         transform=tf_target)\n",
        "\n",
        "\n",
        "\n",
        "dl_target_train = torch.utils.data.DataLoader(ds_target_train, batch_size)\n",
        "dl_target_val = torch.utils.data.DataLoader(ds_target_val, batch_size)\n"
      ],
      "metadata": {
        "id": "xB3-uE4uMxk_"
      },
      "execution_count": null,
      "outputs": []
    },
    {
      "cell_type": "code",
      "source": [
        "import math\n",
        "import itertools\n",
        "\n",
        "import numpy as np\n",
        "import matplotlib.pyplot as plt\n",
        "\n",
        "\n",
        "def tensors_as_images(tensors, nrows=1, figsize=(8, 8), titles=[],\n",
        "                      wspace=0.1, hspace=0.2, cmap=None):\n",
        "    \"\"\"\n",
        "    Plots a sequence of pytorch tensors as images.\n",
        "\n",
        "    :param tensors: A sequence of pytorch tensors, should have shape CxWxH\n",
        "    \"\"\"\n",
        "    assert nrows > 0\n",
        "\n",
        "    num_tensors = len(tensors)\n",
        "\n",
        "    ncols = math.ceil(num_tensors / nrows)\n",
        "\n",
        "    fig, axes = plt.subplots(nrows=nrows, ncols=ncols, figsize=figsize,\n",
        "                             gridspec_kw=dict(wspace=wspace, hspace=hspace),\n",
        "                             subplot_kw=dict(yticks=[], xticks=[]))\n",
        "    axes_flat = axes.reshape(-1)\n",
        "\n",
        "    # Plot each tensor\n",
        "    for i in range(num_tensors):\n",
        "        ax = axes_flat[i]\n",
        "\n",
        "        image_tensor = tensors[i]\n",
        "        assert image_tensor.dim() == 3  # Make sure shape is CxWxH\n",
        "\n",
        "        image = image_tensor.numpy()\n",
        "        image = image.transpose(1, 2, 0)\n",
        "        image = image.squeeze()  # remove singleton dimensions if any exist\n",
        "\n",
        "        # Scale to range 0..1\n",
        "        min, max = np.min(image), np.max(image)\n",
        "        image = (image-min) / (max-min)\n",
        "\n",
        "        ax.imshow(image, cmap=cmap)\n",
        "\n",
        "        if len(titles) > i and titles[i] is not None:\n",
        "            ax.set_title(titles[i])\n",
        "\n",
        "    # If there are more axes than tensors, remove their frames\n",
        "    for j in range(num_tensors, len(axes_flat)):\n",
        "        axes_flat[j].axis('off')\n",
        "\n",
        "    return fig, axes\n",
        "\n",
        "\n",
        "def dataset_first_n(dataset, n, show_classes=False, class_labels=None,\n",
        "                    random_start=True, **kw):\n",
        "    \"\"\"\n",
        "    Plots first n images of a dataset containing tensor images.\n",
        "    \"\"\"\n",
        "\n",
        "    if random_start:\n",
        "        start = np.random.randint(0, len(dataset) - n)\n",
        "        stop = start + n\n",
        "    else:\n",
        "        start = 0\n",
        "        stop = n\n",
        "\n",
        "    # [(img0, cls0), ..., # (imgN, clsN)]\n",
        "    first_n = list(itertools.islice(dataset, start, stop))\n",
        "\n",
        "    # Split (image, class) tuples\n",
        "    first_n_images, first_n_classes = zip(*first_n)\n",
        "\n",
        "    if show_classes:\n",
        "        titles = first_n_classes\n",
        "        if class_labels:\n",
        "            titles = [class_labels[cls] for cls in first_n_classes]\n",
        "    else:\n",
        "        titles = []\n",
        "\n",
        "    return tensors_as_images(first_n_images, titles=titles, **kw)"
      ],
      "metadata": {
        "id": "cc9x3ZVUMxiW"
      },
      "execution_count": null,
      "outputs": []
    },
    {
      "cell_type": "code",
      "source": [
        "## Showing first n images of the dataset\n",
        "dataset_first_n(ds_source_train, 3, cmap='gray')\n",
        "dataset_first_n(ds_target_train, 3)\n",
        "dataset_first_n(ds_source_val, 3, cmap='gray')\n",
        "dataset_first_n(ds_target_val, 3)"
      ],
      "metadata": {
        "colab": {
          "base_uri": "https://localhost:8080/",
          "height": 681
        },
        "id": "X0jjSzV69sFx",
        "outputId": "d910e09f-9152-47a9-9ff6-28b14028afae"
      },
      "execution_count": null,
      "outputs": [
        {
          "output_type": "execute_result",
          "data": {
            "text/plain": [
              "(<Figure size 576x576 with 3 Axes>,\n",
              " array([<AxesSubplot:>, <AxesSubplot:>, <AxesSubplot:>], dtype=object))"
            ]
          },
          "metadata": {},
          "execution_count": 22
        },
        {
          "output_type": "display_data",
          "data": {
            "text/plain": [
              "<Figure size 576x576 with 3 Axes>"
            ],
            "image/png": "[encoded data removed]"
          },
          "metadata": {}
        },
        {
          "output_type": "display_data",
          "data": {
            "text/plain": [
              "<Figure size 576x576 with 3 Axes>"
            ],
            "image/png": "[encoded data removed]"
          },
          "metadata": {}
        },
        {
          "output_type": "display_data",
          "data": {
            "text/plain": [
              "<Figure size 576x576 with 3 Axes>"
            ],
            "image/png": "[encoded data removed]"
          },
          "metadata": {}
        },
        {
          "output_type": "display_data",
          "data": {
            "text/plain": [
              "<Figure size 576x576 with 3 Axes>"
            ],
            "image/png": "[encoded data removed]"
          },
          "metadata": {}
        }
      ]
    },
    {
      "cell_type": "markdown",
      "source": [
        "## Model"
      ],
      "metadata": {
        "id": "EvVjPl3C_E24"
      }
    },
    {
      "cell_type": "markdown",
      "source": [
        "Our model will consist of three parts, as in the figure:\n",
        "\n",
        "* A \"deep\" CNN for image feature extraction (2x Conv, ReLU, MaxPool)\n",
        "* A digit-classification head (3x FC, ReLU)\n",
        "* A domain classification head (2x FC, ReLU), with gradient reversal layer (GRL)"
      ],
      "metadata": {
        "id": "rz0iMt9n_Han"
      }
    },
    {
      "cell_type": "markdown",
      "source": [
        "![ganin_da2.png](data:image/png;base64,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)"
      ],
      "metadata": {
        "id": "be3DsOmM_SRx"
      }
    },
    {
      "cell_type": "markdown",
      "source": [
        "Recall: GRL is no-op in forward pass, but applies  −𝜆  factor to gradient in the backward pass."
      ],
      "metadata": {
        "id": "YQBtCGPZAJyg"
      }
    },
    {
      "cell_type": "markdown",
      "source": [
        "### GRL Layer Implementation"
      ],
      "metadata": {
        "id": "h3QMjjaKAVHN"
      }
    },
    {
      "cell_type": "code",
      "source": [
        "from torch.autograd import Function\n",
        "\n",
        "# Autograd Function objects are what record operation history on tensors,\n",
        "# and define formulas for the forward and backprop.\n",
        "\n",
        "class GradientReversalFn(Function):\n",
        "    @staticmethod\n",
        "    def forward(ctx, x, alpha):\n",
        "        # Store context for backprop\n",
        "        ctx.alpha = alpha\n",
        "        \n",
        "        # Forward pass is a no-op\n",
        "        return x.view_as(x)\n",
        "\n",
        "    @staticmethod\n",
        "    def backward(ctx, grad_output):\n",
        "        # Backward pass is just to -alpha the gradient\n",
        "        output = grad_output.neg() * ctx.alpha\n",
        "\n",
        "        # Must return same number as inputs to forward()\n",
        "        return output, None"
      ],
      "metadata": {
        "id": "bgv_O8d19r6K"
      },
      "execution_count": null,
      "outputs": []
    },
    {
      "cell_type": "markdown",
      "source": [
        "### Domain Adaptation CNN Model"
      ],
      "metadata": {
        "id": "PNkY_FljAhtq"
      }
    },
    {
      "cell_type": "code",
      "source": [
        "\n",
        "class DACNN(nn.Module):\n",
        "    def __init__(self):\n",
        "        super().__init__()\n",
        "        self.feature_extractor = nn.Sequential(\n",
        "            nn.Conv2d(3, 64, kernel_size=5), # input - 3x28x28, output - 64x24x24\n",
        "            nn.BatchNorm2d(64), nn.MaxPool2d(2), # input - 64x24x24, output - 64x12x12\n",
        "            nn.ReLU(True),\n",
        "            nn.Conv2d(64, 50, kernel_size=5), # input - 64x12x12, output - 50x8x8\n",
        "            nn.BatchNorm2d(50), nn.Dropout(0.05), nn.MaxPool2d(2), # input - 50x8x8, output - 50x4x4\n",
        "            nn.ReLU(True),\n",
        "        )\n",
        "        self.class_classifier = nn.Sequential(\n",
        "            nn.Linear(50 * 4 * 4, 100), nn.BatchNorm1d(100), nn.Dropout(0.05), # FC1\n",
        "            nn.ReLU(True),\n",
        "            nn.Linear(100, 100), nn.BatchNorm1d(100),# FC2\n",
        "            nn.ReLU(True),\n",
        "            nn.Linear(100, 10),# FC3\n",
        "            nn.LogSoftmax(dim=1),\n",
        "        )\n",
        "        self.domain_classifier = nn.Sequential(\n",
        "            nn.Linear(50 * 4 * 4, 100), nn.BatchNorm1d(100), # FC1\n",
        "            nn.ReLU(True),\n",
        "            nn.Linear(100, 2),# FC2\n",
        "            nn.LogSoftmax(dim=1),\n",
        "        )\n",
        "\n",
        "    def forward(self, x, grl_lambda=1.0):\n",
        "        # Handle single-channel input by expanding (repeating) the singleton dimention\n",
        "        x = x.expand(x.data.shape[0], 3, image_size, image_size)\n",
        "        \n",
        "        features = self.feature_extractor(x)\n",
        "        features = features.view(-1, 50 * 4 * 4)\n",
        "        reverse_features = GradientReversalFn.apply(features, grl_lambda)\n",
        "        \n",
        "        class_pred = self.class_classifier(features)\n",
        "        domain_pred = self.domain_classifier(reverse_features)\n",
        "        return class_pred, domain_pred"
      ],
      "metadata": {
        "id": "qe6w3ICgAHiD"
      },
      "execution_count": null,
      "outputs": []
    },
    {
      "cell_type": "markdown",
      "source": [
        "Wait, but why let $\\lambda$ (`grl_lambda` in the code) change during training (e.g. every epoch)?\n",
        "\n",
        "- In the beginning of training, the domain loss is extremely noisy since the CNN features are not good yet.\n",
        "- Therefore, lambda is gradualy changed from 0 to 1 in the course of training.\n",
        "    $$\n",
        "    \\lambda_p = \\frac{2}{1+\\exp(-10\\cdot p)} -1,\n",
        "    $$\n",
        "    where $p\\in[0,1]$ is the training progress."
      ],
      "metadata": {
        "id": "LF4Z6MFeAtXm"
      }
    },
    {
      "cell_type": "code",
      "source": [
        "model = DACNN()\n",
        "model"
      ],
      "metadata": {
        "colab": {
          "base_uri": "https://localhost:8080/"
        },
        "id": "2RlYazZ29r3J",
        "outputId": "571f85ec-27ff-4cf7-b4cf-9e6a35cb7cac"
      },
      "execution_count": null,
      "outputs": [
        {
          "output_type": "execute_result",
          "data": {
            "text/plain": [
              "DACNN(\n",
              "  (feature_extractor): Sequential(\n",
              "    (0): Conv2d(3, 64, kernel_size=(5, 5), stride=(1, 1))\n",
              "    (1): BatchNorm2d(64, eps=1e-05, momentum=0.1, affine=True, track_running_stats=True)\n",
              "    (2): MaxPool2d(kernel_size=2, stride=2, padding=0, dilation=1, ceil_mode=False)\n",
              "    (3): ReLU(inplace=True)\n",
              "    (4): Conv2d(64, 50, kernel_size=(5, 5), stride=(1, 1))\n",
              "    (5): BatchNorm2d(50, eps=1e-05, momentum=0.1, affine=True, track_running_stats=True)\n",
              "    (6): Dropout2d(p=0.5, inplace=False)\n",
              "    (7): MaxPool2d(kernel_size=2, stride=2, padding=0, dilation=1, ceil_mode=False)\n",
              "    (8): ReLU(inplace=True)\n",
              "  )\n",
              "  (class_classifier): Sequential(\n",
              "    (0): Linear(in_features=800, out_features=100, bias=True)\n",
              "    (1): BatchNorm1d(100, eps=1e-05, momentum=0.1, affine=True, track_running_stats=True)\n",
              "    (2): Dropout2d(p=0.5, inplace=False)\n",
              "    (3): ReLU(inplace=True)\n",
              "    (4): Linear(in_features=100, out_features=100, bias=True)\n",
              "    (5): BatchNorm1d(100, eps=1e-05, momentum=0.1, affine=True, track_running_stats=True)\n",
              "    (6): ReLU(inplace=True)\n",
              "    (7): Linear(in_features=100, out_features=10, bias=True)\n",
              "    (8): LogSoftmax(dim=1)\n",
              "  )\n",
              "  (domain_classifier): Sequential(\n",
              "    (0): Linear(in_features=800, out_features=100, bias=True)\n",
              "    (1): BatchNorm1d(100, eps=1e-05, momentum=0.1, affine=True, track_running_stats=True)\n",
              "    (2): ReLU(inplace=True)\n",
              "    (3): Linear(in_features=100, out_features=2, bias=True)\n",
              "    (4): LogSoftmax(dim=1)\n",
              "  )\n",
              ")"
            ]
          },
          "metadata": {},
          "execution_count": 25
        }
      ]
    },
    {
      "cell_type": "code",
      "source": [
        "!pip install torchinfo \n",
        "temp_model = DACNN().to(device)\n",
        "batch_size = 2\n",
        "summary(temp_model, input_size=(batch_size, 3, 28, 28))"
      ],
      "metadata": {
        "id": "Pq3YFaHgQx9O"
      },
      "execution_count": null,
      "outputs": []
    },
    {
      "cell_type": "markdown",
      "source": [
        "#### Checking if the model, dataloader etc. are working by sending data to untrained model"
      ],
      "metadata": {
        "id": "U3npnOoiBHTF"
      }
    },
    {
      "cell_type": "code",
      "source": [
        "x0_s_train, y0_s_train = next(iter(dl_source_train))\n",
        "x0_t_train, y0_t_train = next(iter(dl_target_train))\n",
        "\n",
        "\n",
        "print('source domain: ', x0_s_train.shape, y0_s_train.shape)\n",
        "print('target domain: ', x0_t_train.shape, y0_t_train.shape)\n",
        "\n",
        "print(model(x0_s_train))\n",
        "print(model(x0_t_train))"
      ],
      "metadata": {
        "colab": {
          "base_uri": "https://localhost:8080/"
        },
        "id": "5jJHAbLTBGv-",
        "outputId": "67745438-630f-4c23-a710-1b147c385e69"
      },
      "execution_count": null,
      "outputs": [
        {
          "output_type": "stream",
          "name": "stdout",
          "text": [
            "source domain:  torch.Size([4, 1, 28, 28]) torch.Size([4])\n",
            "target domain:  torch.Size([4, 3, 28, 28]) torch.Size([4])\n",
            "(tensor([[-2.4823, -2.9627, -2.8780, -2.5407, -1.9023, -1.3175, -2.6580, -2.4428,\n",
            "         -2.5820, -2.5248],\n",
            "        [-1.8210, -2.5940, -2.8001, -2.1638, -2.7580, -2.2207, -2.2873, -2.1393,\n",
            "         -2.4549, -2.2015],\n",
            "        [-2.1401, -2.1971, -1.8836, -2.4677, -2.2931, -1.9864, -3.1085, -2.0172,\n",
            "         -2.3999, -3.5809],\n",
            "        [-1.9427, -2.1691, -2.7427, -2.1226, -1.9136, -2.6047, -2.5879, -2.3799,\n",
            "         -2.4649, -2.4763]], grad_fn=<LogSoftmaxBackward0>), tensor([[-0.3863, -1.1381],\n",
            "        [-0.3704, -1.1727],\n",
            "        [-0.5918, -0.8059],\n",
            "        [-0.6406, -0.7486]], grad_fn=<LogSoftmaxBackward0>))\n",
            "(tensor([[-1.8447, -2.4778, -2.7259, -2.4943, -1.7838, -1.7162, -3.2365, -2.2038,\n",
            "         -2.9671, -2.7959],\n",
            "        [-1.9640, -2.0652, -3.2381, -2.0769, -2.4492, -2.1333, -2.1626, -2.0267,\n",
            "         -2.7541, -2.9358],\n",
            "        [-2.4341, -2.3138, -1.8427, -1.8841, -2.6282, -2.1240, -2.6043, -2.7713,\n",
            "         -2.1882, -2.7698],\n",
            "        [-2.1438, -2.9649, -2.4160, -2.8126, -1.9881, -2.0873, -2.7716, -2.0492,\n",
            "         -1.9675, -2.4111]], grad_fn=<LogSoftmaxBackward0>), tensor([[-0.3886, -1.1333],\n",
            "        [-0.8079, -0.5902],\n",
            "        [-0.7279, -0.6595],\n",
            "        [-0.2289, -1.5868]], grad_fn=<LogSoftmaxBackward0>))\n"
          ]
        },
        {
          "output_type": "stream",
          "name": "stderr",
          "text": [
            "/usr/local/lib/python3.9/dist-packages/torch/nn/functional.py:1331: UserWarning: dropout2d: Received a 2-D input to dropout2d, which is deprecated and will result in an error in a future release. To retain the behavior and silence this warning, please use dropout instead. Note that dropout2d exists to provide channel-wise dropout on inputs with 2 spatial dimensions, a channel dimension, and an optional batch dimension (i.e. 3D or 4D inputs).\n",
            "  warnings.warn(warn_msg)\n"
          ]
        }
      ]
    },
    {
      "cell_type": "markdown",
      "source": [
        "### Source Training *Function*"
      ],
      "metadata": {
        "id": "aBa8N6e1WClP"
      }
    },
    {
      "cell_type": "code",
      "source": [
        "### Source Training Function\n",
        "from tqdm import tqdm # for beautiful model training updates\n",
        "\n",
        "def train_model(model, device, train_loader,optimizer,epoch):\n",
        "    model.train() # setting the model in training mode\n",
        "    pbar = tqdm(train_loader) # putting the iterator in pbara\n",
        "    correct = 0 # for accuracy numerator\n",
        "    processed =0 # for accuracy denominator\n",
        "\n",
        "    for batch_idx, batch in enumerate(pbar):\n",
        "\n",
        "        X_s, y_s = batch[0].to(device), batch[1].long().to(device) \n",
        "        #sending data to CPU or GPU as per device\n",
        "        optimizer.zero_grad() # setting gradients to zero to avoid accumulation\n",
        "\n",
        "        class_pred, _ = model(X_s, grl_lambda = 0)\n",
        "        loss = F.nll_loss(class_pred, y_s) # capturing loss\n",
        "        # forward pass, result captured in y_preds (plural as there are many body in a batch)\n",
        "        # we are not interested in domain prediction\n",
        "        # the predictions are in one hot vector\n",
        "        \n",
        "        loss.backward() # backpropagation\n",
        "        optimizer.step() # updating the params\n",
        "\n",
        "        preds = class_pred.argmax(dim=1, keepdim=True)  # get the index olf the max log-probability\n",
        "        correct += preds.eq(y_s.view_as(preds)).sum().item()\n",
        "\n",
        "        processed += len(X_s)\n",
        "\n",
        "        pbar.set_description(desc= f'Loss={loss.item()} Batch_id={batch_idx} Accuracy={100*correct/processed:0.2f}')\n"
      ],
      "metadata": {
        "id": "CIJrfDYqWDJk"
      },
      "execution_count": null,
      "outputs": []
    },
    {
      "cell_type": "markdown",
      "source": [
        "### Typical Test Function"
      ],
      "metadata": {
        "id": "Rq5wIR7nZNVc"
      }
    },
    {
      "cell_type": "code",
      "source": [
        "## This is same as DANN test function"
      ],
      "metadata": {
        "id": "0Vd5I5geZSkU"
      },
      "execution_count": null,
      "outputs": []
    },
    {
      "cell_type": "markdown",
      "source": [
        "### DANN Training *Function*"
      ],
      "metadata": {
        "id": "zK6G_I9dFkEP"
      }
    },
    {
      "cell_type": "code",
      "source": [
        "# DANN Training Function\n",
        "\n",
        "def dann_train_model(model, device, train_source_loader, train_target_loader,optimizer, epoch, num_epochs):\n",
        "    model.train() # setting the model in training mode\n",
        "    # understanding batch size by understanding length of two dataloaders\n",
        "    len_dataloader = min(len(train_source_loader), len(train_target_loader)) # training for minimum of two dataloaders\n",
        "\n",
        "    i = 0 # as the training progresses the alpha changes\n",
        "    while i < len_dataloader -1:\n",
        "        # implementation of alpha as per paper\n",
        "        p = float(i + epoch * len_dataloader) / (num_epochs * len_dataloader)\n",
        "        grl_lambda = 2. / (1. + np.exp(-10 * p)) - 1\n",
        "\n",
        "        # Train on source domain\n",
        "        X_s, y_s = next(iter(train_source_loader))\n",
        "        X_s, y_s = X_s.to(device), y_s.to(device)\n",
        "        y_s_domain = torch.zeros(batch_size, dtype=torch.long).to(device) # generate source domain labels\n",
        "\n",
        "        class_pred, domain_pred = model(X_s, grl_lambda)\n",
        "        loss_s_label = F.nll_loss(class_pred, y_s)\n",
        "        loss_s_domain = F.nll_loss(domain_pred, y_s_domain)\n",
        "\n",
        "        # Train on target domain\n",
        "        X_t, _ = next(iter(train_target_loader)) # ignore target domain class labels!\n",
        "        X_t = X_t.to(device)\n",
        "        y_t_domain = torch.ones(batch_size, dtype=torch.long).to(device) # generate target domain labels\n",
        "\n",
        "        _, domain_pred = model(X_t, grl_lambda) # ignore the model output in terms of class labels\n",
        "        loss_t_domain = F.nll_loss(domain_pred, y_t_domain)\n",
        "        \n",
        "        loss = loss_t_domain + loss_s_domain + loss_s_label\n",
        "        loss.backward()\n",
        "        optimizer.step()\n",
        "\n",
        "        if ((i + 1) % 10 == 0):\n",
        "          print(f'[{i+1}/{len_dataloader}] '\n",
        "                f'class_loss: {loss_s_label.item():.4f} ' f's_domain_loss: {loss_s_domain.item():.4f} '\n",
        "                f't_domain_loss: {loss_t_domain.item():.4f} ' f'grl_lambda: {grl_lambda:.3f} '\n",
        "              )\n",
        "        \n",
        "        i = i+1"
      ],
      "metadata": {
        "id": "6mjUvkBiFm52"
      },
      "execution_count": null,
      "outputs": []
    },
    {
      "cell_type": "markdown",
      "source": [
        "### DANN Test *Function*"
      ],
      "metadata": {
        "id": "RNUr2SJqH58O"
      }
    },
    {
      "cell_type": "code",
      "source": [
        "# DANN Test Function\n",
        "\n",
        "def dann_test_model(model, device, test_loader):\n",
        "    model.eval() # setting the model in evaluation mode\n",
        "    grl_lambda = 0\n",
        "    test_loss = 0\n",
        "    correct = 0  # for accuracy numerator\n",
        "\n",
        "    with torch.no_grad():\n",
        "        for (X_t,y_t) in test_loader:\n",
        "            \n",
        "            X_t, y_t = X_t.to(device), y_t.long().to(device) #sending data to CPU or GPU as per device\n",
        "            class_outputs, _  = model(X_t, grl_lambda = grl_lambda) # forward pass, plural results\n",
        "            \n",
        "            test_loss = F.nll_loss(class_outputs, y_t, reduction='sum').item()  # sum up batch loss\n",
        "            preds = class_outputs.argmax(dim=1, keepdim=True)  # get the index of the max log-probability\n",
        "            correct += preds.eq(y_t.view_as(preds)).sum().item()\n",
        "        \n",
        "        test_loss /= len(test_loader.dataset) # average test loss\n",
        "\n",
        "            \n",
        "        print('Test set: Average loss: {:.4f}, Accuracy: {}/{} ({:.2f}%) \\n'.format(\n",
        "            test_loss, correct, len(test_loader.dataset),\n",
        "            100. * correct / len(test_loader.dataset)))"
      ],
      "metadata": {
        "id": "cSY3wqLWKJ89"
      },
      "execution_count": null,
      "outputs": []
    },
    {
      "cell_type": "markdown",
      "source": [
        "### Test and Training Declarations"
      ],
      "metadata": {
        "id": "c58EQyNXKKbz"
      }
    },
    {
      "cell_type": "code",
      "source": [
        "lr = 1e-3\n",
        "n_epochs = 2\n",
        "\n",
        "device = torch.device(\"cuda\" if torch.cuda.is_available() else \"cpu\")\n",
        "print(device)\n",
        "# Setup optimizer as usual\n",
        "\n",
        "typical_model = DACNN()\n",
        "typical_model = typical_model.to(device)\n",
        "optimizer = optim.Adam(typical_model.parameters(), lr)\n",
        "\n",
        "dann_model = DACNN()\n",
        "dann_model = dann_model.to(device)\n",
        "optimizer_dann = optim.Adam(dann_model.parameters(), lr) # note the change in optimizer\n",
        "\n",
        "\n",
        "\n",
        "batch_size = 2048\n",
        "\n",
        "dl_source_train = torch.utils.data.DataLoader(ds_source_train, batch_size)\n",
        "dl_source_val = torch.utils.data.DataLoader(ds_source_val, batch_size)\n",
        "dl_target_train = torch.utils.data.DataLoader(ds_target_train, batch_size)\n",
        "dl_target_val = torch.utils.data.DataLoader(ds_target_val, batch_size)\n"
      ],
      "metadata": {
        "colab": {
          "base_uri": "https://localhost:8080/"
        },
        "id": "nKMiXLEJLfO0",
        "outputId": "4a0062f0-52d7-496d-a03b-3459a1ade9dd"
      },
      "execution_count": null,
      "outputs": [
        {
          "output_type": "stream",
          "name": "stdout",
          "text": [
            "cuda\n"
          ]
        }
      ]
    },
    {
      "cell_type": "markdown",
      "source": [
        "### Typical Model Training and Testing Loop"
      ],
      "metadata": {
        "id": "3cKjyCGUbTY7"
      }
    },
    {
      "cell_type": "code",
      "source": [
        "## Typical model\n",
        "for epoch in range(n_epochs):\n",
        "    print(\"EPOCH:\", epoch+1)\n",
        "    train_model(typical_model, device, dl_source_train, optimizer, epoch)\n",
        "    print('\\nTesting on Source Val......')\n",
        "    dann_test_model(typical_model, device, dl_source_val)\n",
        "    print('\\nTesting on Target Val......')\n",
        "    dann_test_model(typical_model, device, dl_target_val)\n",
        "print(\"Typical model training and validation completed\")"
      ],
      "metadata": {
        "colab": {
          "base_uri": "https://localhost:8080/"
        },
        "id": "WsOPMh1tbUN7",
        "outputId": "95867809-09fd-4276-f6c5-942a909110b2"
      },
      "execution_count": null,
      "outputs": [
        {
          "output_type": "stream",
          "name": "stdout",
          "text": [
            "EPOCH: 1\n"
          ]
        },
        {
          "output_type": "stream",
          "name": "stderr",
          "text": [
            "Loss=0.6377901434898376 Batch_id=29 Accuracy=71.86: 100%|██████████| 30/30 [00:27<00:00,  1.10it/s]\n"
          ]
        },
        {
          "output_type": "stream",
          "name": "stdout",
          "text": [
            "\n",
            "Testing on Source Val......\n",
            "Test set: Average loss: 0.0807, Accuracy: 9543/10000 (95.43%) \n",
            "\n",
            "\n",
            "Testing on Target Val......\n",
            "Test set: Average loss: 0.2150, Accuracy: 1576/9001 (17.51%) \n",
            "\n",
            "EPOCH: 2\n"
          ]
        },
        {
          "output_type": "stream",
          "name": "stderr",
          "text": [
            "Loss=0.26478293538093567 Batch_id=29 Accuracy=93.52: 100%|██████████| 30/30 [00:19<00:00,  1.53it/s]\n"
          ]
        },
        {
          "output_type": "stream",
          "name": "stdout",
          "text": [
            "\n",
            "Testing on Source Val......\n",
            "Test set: Average loss: 0.0248, Accuracy: 9766/10000 (97.66%) \n",
            "\n",
            "\n",
            "Testing on Target Val......\n",
            "Test set: Average loss: 0.2495, Accuracy: 1443/9001 (16.03%) \n",
            "\n",
            "Typical model training and validation completed\n"
          ]
        }
      ]
    },
    {
      "cell_type": "markdown",
      "source": [
        "### DANN Training and Testing Loop"
      ],
      "metadata": {
        "id": "uSYubpgSaTli"
      }
    },
    {
      "cell_type": "code",
      "source": [
        "### DANN\n",
        "for epoch in range(n_epochs):\n",
        "    print(\"EPOCH:\", epoch+1)\n",
        "    dann_train_model(dann_model, device, dl_source_train, dl_target_train, optimizer_dann, epoch, num_epochs = n_epochs)\n",
        "    print('Testing on Source Val......')\n",
        "    dann_test_model(dann_model, device, dl_source_val)\n",
        "    print('Testing on Target Val......')\n",
        "    dann_test_model(dann_model, device, dl_target_val)\n",
        "print(\"DANN model training and validtion completed\")"
      ],
      "metadata": {
        "colab": {
          "base_uri": "https://localhost:8080/"
        },
        "id": "3PkJJrRGMJ6n",
        "outputId": "569e4014-a8d2-4657-bfd1-0038c0a54328"
      },
      "execution_count": null,
      "outputs": [
        {
          "output_type": "stream",
          "name": "stdout",
          "text": [
            "EPOCH: 1\n",
            "[10/29] class_loss: 1.5409 s_domain_loss: 0.6986 t_domain_loss: 0.6902 grl_lambda: 0.650 \n",
            "[20/29] class_loss: 1.0965 s_domain_loss: 0.6151 t_domain_loss: 0.8035 grl_lambda: 0.927 \n",
            "Testing on Source Val......\n",
            "Test set: Average loss: 0.0892, Accuracy: 8443/10000 (84.43%) \n",
            "\n",
            "Testing on Target Val......\n",
            "Test set: Average loss: 0.1903, Accuracy: 2415/9001 (26.83%) \n",
            "\n",
            "EPOCH: 2\n",
            "[10/29] class_loss: 0.6330 s_domain_loss: 0.7498 t_domain_loss: 0.6640 grl_lambda: 0.997 \n",
            "[20/29] class_loss: 0.4806 s_domain_loss: 0.9948 t_domain_loss: 0.4852 grl_lambda: 0.999 \n",
            "Testing on Source Val......\n",
            "Test set: Average loss: 0.0604, Accuracy: 8772/10000 (87.72%) \n",
            "\n",
            "Testing on Target Val......\n",
            "Test set: Average loss: 0.1819, Accuracy: 2556/9001 (28.40%) \n",
            "\n",
            "DANN model training and validtion completed\n"
          ]
        }
      ]
    },
    {
      "cell_type": "markdown",
      "source": [
        "### Confusion Metrics, Accuracy, Precision, Recall, F1"
      ],
      "metadata": {
        "id": "9HK4RslRdziW"
      }
    },
    {
      "cell_type": "code",
      "source": [
        "\n",
        "\n",
        "# device = torch.device(\"cpu\")\n",
        "device = torch.device(\"cuda\" if torch.cuda.is_available() else \"cpu\")\n",
        "print(\"device =\",device)\n",
        "\n",
        "\n",
        "classes = ('0','1','2','3','4','5','6','7','8','9')\n",
        "\n",
        "dict_testloader = {\"Source Val\": dl_source_val,\"Target Val\":dl_target_val}\n",
        "dict_model = {\"Typical\": typical_model,\"DANN\": dann_model}\n"
      ],
      "metadata": {
        "colab": {
          "base_uri": "https://localhost:8080/"
        },
        "id": "MZbaHnQwd-sw",
        "outputId": "d37ebdc3-39fc-4585-e7fd-52dea83f618a"
      },
      "execution_count": null,
      "outputs": [
        {
          "output_type": "stream",
          "name": "stdout",
          "text": [
            "device = cuda\n"
          ]
        }
      ]
    },
    {
      "cell_type": "code",
      "source": [
        "from sklearn.metrics import confusion_matrix, recall_score, precision_score,f1_score,accuracy_score\n",
        "\n",
        "import seaborn as sn\n",
        "import pandas as pd\n",
        "import matplotlib.pyplot as plt\n",
        "\n",
        "\n",
        "for model_name, model in dict_model.items():\n",
        "  model.eval()  # setting the model into evaluation mode\n",
        "  grl_lambda = 0\n",
        "  for domain_name, test_loader  in dict_testloader.items():\n",
        "    y_pred = []\n",
        "    y_true = []\n",
        "\n",
        "    for (X_t,y_t) in test_loader:\n",
        "      X_t, y_t = X_t.to(device), y_t.long().to(device) #sending data to CPU or GPU as per device\n",
        "\n",
        "      # Ground Truth Values\n",
        "      truths = y_t.tolist()\n",
        "      # truths = y_t.cpu().numpy() # CPU\n",
        "      y_true.extend(truths) # Save Truth\n",
        "\n",
        "      # Prediction Values\n",
        "      class_outputs, _  = model(X_t, grl_lambda = grl_lambda) # forward pass, plural results\n",
        "      preds = (torch.max(torch.exp(class_outputs), 1)[1]).tolist()\n",
        "\n",
        "      # print(preds)\n",
        "      # preds = class_outputs.argmax(dim=1, keepdim=True).data.cpu().numpy()  # CPU\n",
        "      y_pred.extend(preds) # Save Predicted\n",
        "      \n",
        "    # Build confusion matrix\n",
        "    print(f'------------Model = {model_name}, Domain Validation = {domain_name}---------')\n",
        "    cf_matrix = confusion_matrix(y_true, y_pred)\n",
        "    accuracy = accuracy_score(y_true, y_pred)\n",
        "    precision = precision_score(y_true, y_pred, average=None)\n",
        "    recall = recall_score (y_true, y_pred, average=None)\n",
        "    f1 = f1_score (y_true, y_pred, average=None)\n",
        "\n",
        "    df_cm = pd.DataFrame(cf_matrix, index = [i for i in classes],\n",
        "                         columns = [i for i in classes])\n",
        "    print(\"confusion matrix \\n\",df_cm)\n",
        "    print (f' Accuracy = {accuracy} \\nPrecision = {precision} \\n Recall = {recall} \\nf1 = {f1}')\n",
        "    plt.figure(figsize = (12,7))\n",
        "    ax = plt.axes()\n",
        "    sn.heatmap(df_cm, ax= ax, annot=True)\n",
        "\n",
        "    ax.set_title(model_name+\" model tested on \"+domain_name)\n",
        "    plt.show()\n",
        "    # sn.heatmap(df_cm, annot=True)\n",
        "      \n"
      ],
      "metadata": {
        "colab": {
          "base_uri": "https://localhost:8080/",
          "height": 1000
        },
        "id": "hBc1-Iw0glyP",
        "outputId": "79aa41a4-0d44-430c-80d8-3e2b9b77373d"
      },
      "execution_count": null,
      "outputs": [
        {
          "output_type": "stream",
          "name": "stderr",
          "text": [
            "/usr/local/lib/python3.9/dist-packages/torch/nn/functional.py:1331: UserWarning: dropout2d: Received a 2-D input to dropout2d, which is deprecated and will result in an error in a future release. To retain the behavior and silence this warning, please use dropout instead. Note that dropout2d exists to provide channel-wise dropout on inputs with 2 spatial dimensions, a channel dimension, and an optional batch dimension (i.e. 3D or 4D inputs).\n",
            "  warnings.warn(warn_msg)\n"
          ]
        },
        {
          "output_type": "stream",
          "name": "stdout",
          "text": [
            "------------Model = Typical, Domain Validation = Source Val---------\n",
            "confusion matrix \n",
            "      0     1    2    3    4    5    6    7    8    9\n",
            "0  972     0    1    0    0    0    4    1    2    0\n",
            "1    0  1129    1    3    0    2    0    0    0    0\n",
            "2    7     2  993    3    5    1    4   15    2    0\n",
            "3    1     0    4  983    0   11    0    8    2    1\n",
            "4    2     1    0    0  964    0    7    0    1    7\n",
            "5    1     1    0    5    0  881    2    1    1    0\n",
            "6    6     3    0    0    2    7  940    0    0    0\n",
            "7    1     7   17    1    0    1    0  994    1    6\n",
            "8    6     1    2    3    3    1    2    6  941    9\n",
            "9    4     4    0    5    7    8    1    9    2  969\n",
            " Accuracy = 0.9766 \n",
            "Precision = [0.972      0.98344948 0.97544204 0.98005982 0.98267074 0.96600877\n",
            " 0.97916667 0.96131528 0.98844538 0.97681452] \n",
            " Recall = [0.99183673 0.99471366 0.9622093  0.97326733 0.98167006 0.98766816\n",
            " 0.98121086 0.96692607 0.9661191  0.96035679] \n",
            "f1 = [0.98181818 0.9890495  0.96878049 0.97665176 0.98217015 0.9767184\n",
            " 0.9801877  0.96411251 0.97715472 0.96851574]\n"
          ]
        },
        {
          "output_type": "display_data",
          "data": {
            "text/plain": [
              "<Figure size 864x504 with 2 Axes>"
            ],
            "image/png": "[encoded data removed]"
          },
          "metadata": {
            "needs_background": "light"
          }
        },
        {
          "output_type": "stream",
          "name": "stderr",
          "text": [
            "/usr/local/lib/python3.9/dist-packages/torch/nn/functional.py:1331: UserWarning: dropout2d: Received a 2-D input to dropout2d, which is deprecated and will result in an error in a future release. To retain the behavior and silence this warning, please use dropout instead. Note that dropout2d exists to provide channel-wise dropout on inputs with 2 spatial dimensions, a channel dimension, and an optional batch dimension (i.e. 3D or 4D inputs).\n",
            "  warnings.warn(warn_msg)\n"
          ]
        },
        {
          "output_type": "stream",
          "name": "stdout",
          "text": [
            "------------Model = Typical, Domain Validation = Target Val---------\n",
            "confusion matrix \n",
            "     0     1   2   3  4   5   6    7  8  9\n",
            "0  52   807   4   0  0   9   1    5  0  0\n",
            "1   0  1016   0   0  0   0   0    0  0  0\n",
            "2   0   827  82   1  0   9   0   14  0  0\n",
            "3   1   843   3  45  0   7   0    9  0  0\n",
            "4   0   883   0   0  6   1   0    0  0  0\n",
            "5   0   708   0   0  0  96   1    2  0  0\n",
            "6   0   807   0   0  0   8  41    0  0  0\n",
            "7   0   805   4   0  0   0   0  105  0  0\n",
            "8   0   860   7   0  0   8   0    5  0  0\n",
            "9   0   899   0   0  0   9   0   11  0  0\n",
            " Accuracy = 0.16031552049772246 \n",
            "Precision = [0.98113208 0.12016558 0.82       0.97826087 1.         0.65306122\n",
            " 0.95348837 0.69536424 0.         0.        ] \n",
            " Recall = [0.05922551 1.         0.08788853 0.04955947 0.00674157 0.11895911\n",
            " 0.0478972  0.11487965 0.         0.        ] \n",
            "f1 = [0.11170784 0.21454968 0.15876089 0.09433962 0.01339286 0.20125786\n",
            " 0.09121246 0.1971831  0.         0.        ]\n"
          ]
        },
        {
          "output_type": "stream",
          "name": "stderr",
          "text": [
            "/usr/local/lib/python3.9/dist-packages/sklearn/metrics/_classification.py:1344: UndefinedMetricWarning: Precision is ill-defined and being set to 0.0 in labels with no predicted samples. Use `zero_division` parameter to control this behavior.\n",
            "  _warn_prf(average, modifier, msg_start, len(result))\n"
          ]
        },
        {
          "output_type": "display_data",
          "data": {
            "text/plain": [
              "<Figure size 864x504 with 2 Axes>"
            ],
            "image/png": "[encoded data removed]"
          },
          "metadata": {
            "needs_background": "light"
          }
        },
        {
          "output_type": "stream",
          "name": "stderr",
          "text": [
            "/usr/local/lib/python3.9/dist-packages/torch/nn/functional.py:1331: UserWarning: dropout2d: Received a 2-D input to dropout2d, which is deprecated and will result in an error in a future release. To retain the behavior and silence this warning, please use dropout instead. Note that dropout2d exists to provide channel-wise dropout on inputs with 2 spatial dimensions, a channel dimension, and an optional batch dimension (i.e. 3D or 4D inputs).\n",
            "  warnings.warn(warn_msg)\n"
          ]
        },
        {
          "output_type": "stream",
          "name": "stdout",
          "text": [
            "------------Model = DANN, Domain Validation = Source Val---------\n",
            "confusion matrix \n",
            "      0    1    2    3    4    5    6    7    8    9\n",
            "0  932    0    5    5    0    1    7    2   27    1\n",
            "1    0  816   18    4    0    2    3    2  289    1\n",
            "2    4    0  924   29    2    1    5    7   59    1\n",
            "3    0    0   16  862    0   57    1    5   64    5\n",
            "4    1    0   14    0  885    0   43    0    8   31\n",
            "5    4    0    1   18    0  758   10    3   79   19\n",
            "6   14    1    5    0    1   20  903    0   14    0\n",
            "7    1    1   52    7    5    0    3  832   15  112\n",
            "8    0    0    3    8    2    3   12    2  929   15\n",
            "9   10    0   10    7   11    3    1    3   33  931\n",
            " Accuracy = 0.8772 \n",
            "Precision = [0.96480331 0.99755501 0.88167939 0.91702128 0.97682119 0.89704142\n",
            " 0.91396761 0.97196262 0.61239288 0.83422939] \n",
            " Recall = [0.95102041 0.71894273 0.89534884 0.85346535 0.901222   0.84977578\n",
            " 0.94258873 0.80933852 0.95379877 0.92269574] \n",
            "f1 = [0.95786228 0.83563748 0.88846154 0.88410256 0.9375     0.87276914\n",
            " 0.92805755 0.88322718 0.74588519 0.87623529]\n"
          ]
        },
        {
          "output_type": "display_data",
          "data": {
            "text/plain": [
              "<Figure size 864x504 with 2 Axes>"
            ],
            "image/png": "[encoded data removed]"
          },
          "metadata": {
            "needs_background": "light"
          }
        },
        {
          "output_type": "stream",
          "name": "stderr",
          "text": [
            "/usr/local/lib/python3.9/dist-packages/torch/nn/functional.py:1331: UserWarning: dropout2d: Received a 2-D input to dropout2d, which is deprecated and will result in an error in a future release. To retain the behavior and silence this warning, please use dropout instead. Note that dropout2d exists to provide channel-wise dropout on inputs with 2 spatial dimensions, a channel dimension, and an optional batch dimension (i.e. 3D or 4D inputs).\n",
            "  warnings.warn(warn_msg)\n"
          ]
        },
        {
          "output_type": "stream",
          "name": "stdout",
          "text": [
            "------------Model = DANN, Domain Validation = Target Val---------\n",
            "confusion matrix \n",
            "      0    1    2    3    4    5    6    7   8   9\n",
            "0  296  475    7    5   16   25   23   26   3   2\n",
            "1   47  764    1    1   46    2  144   10   1   0\n",
            "2    9  513  225   10   93   28   19   35   1   0\n",
            "3   12  522   33  118   44  106    9   30  31   3\n",
            "4   44  540    4    4  230   34   13   21   0   0\n",
            "5   31  405   21   14   24  235   22   32   9  14\n",
            "6   39  473    2    6   12   33  271   19   0   1\n",
            "7   19  473   78    9   32    9    0  290   1   3\n",
            "8   42  577   22   12   24   29   55   32  80   7\n",
            "9   73  526   12    7  174   22    3   54   1  47\n",
            " Accuracy = 0.28396844795022774 \n",
            "Precision = [0.48366013 0.14502658 0.55555556 0.6344086  0.33093525 0.44933078\n",
            " 0.48479428 0.52823315 0.62992126 0.61038961] \n",
            " Recall = [0.33712984 0.7519685  0.24115756 0.12995595 0.25842697 0.29120198\n",
            " 0.31658879 0.31728665 0.09090909 0.05114255] \n",
            "f1 = [0.39731544 0.24315722 0.33632287 0.21572212 0.29022082 0.35338346\n",
            " 0.38303887 0.39644566 0.15888779 0.09437751]\n"
          ]
        },
        {
          "output_type": "display_data",
          "data": {
            "text/plain": [
              "<Figure size 864x504 with 2 Axes>"
            ],
            "image/png": "[encoded data removed]"
          },
          "metadata": {
            "needs_background": "light"
          }
        }
      ]
    }
  ]
}