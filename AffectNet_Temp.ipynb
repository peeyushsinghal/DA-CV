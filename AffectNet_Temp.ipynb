{
  "nbformat": 4,
  "nbformat_minor": 0,
  "metadata": {
    "colab": {
      "provenance": [],
      "gpuType": "T4",
      "authorship_tag": "ABX9TyM0aQDuQzWp5SliEJAZINuM",
      "include_colab_link": true
    },
    "kernelspec": {
      "name": "python3",
      "display_name": "Python 3"
    },
    "language_info": {
      "name": "python"
    },
    "accelerator": "GPU",
    "gpuClass": "standard"
  },
  "cells": [
    {
      "cell_type": "markdown",
      "metadata": {
        "id": "view-in-github",
        "colab_type": "text"
      },
      "source": [
        "<a href=\"https://colab.research.google.com/github/peeyushsinghal/DA-CV/blob/main/AffectNet_Temp.ipynb\" target=\"_parent\"><img src=\"https://colab.research.google.com/assets/colab-badge.svg\" alt=\"Open In Colab\"/></a>"
      ]
    },
    {
      "cell_type": "code",
      "execution_count": 1,
      "metadata": {
        "id": "5jDYpYoM2QLO"
      },
      "outputs": [],
      "source": [
        "#@title Import Statements\n",
        "import os # for creating directories\n",
        "import tarfile # to untar datafiles\n",
        "import numpy as np # annotation files are stored as np\n",
        "from PIL import Image\n",
        " "
      ]
    },
    {
      "cell_type": "code",
      "source": [
        "#@title Data Loading\n",
        "\n",
        "#Mounting google drive\n",
        "# from google.colab import drive\n",
        "# drive.mount('/content/drive', force_remount=True)\n",
        "\n",
        "from google.colab import drive\n",
        "drive.mount('/content/drive')"
      ],
      "metadata": {
        "colab": {
          "base_uri": "https://localhost:8080/"
        },
        "id": "FIGx0k122Rky",
        "outputId": "fb5ff359-3342-4475-da09-4aab1245bdc8"
      },
      "execution_count": 2,
      "outputs": [
        {
          "output_type": "stream",
          "name": "stdout",
          "text": [
            "Mounted at /content/drive\n"
          ]
        }
      ]
    },
    {
      "cell_type": "code",
      "source": [
        "#@title Data Configuration\n",
        "\n",
        "BASE_PATH = '/content/drive/MyDrive/AffectNet'\n",
        "\n",
        "\n",
        "TRAIN_DIR = os.path.join(BASE_PATH,'train_set','train_set')\n",
        "VAL_DIR = os.path.join(BASE_PATH,'val_set','val_set')\n",
        "ANNOTATION_DIR ='annotations'\n",
        "IMAGE_DIR = 'images'\n",
        "\n",
        "print(TRAIN_DIR, VAL_DIR)\n",
        "\n",
        "MODEL_DIR = os.path.join(BASE_PATH,'models')\n",
        "if not os.path.exists(MODEL_DIR):\n",
        "  os.makedirs(MODEL_DIR)\n",
        "  print(\"The new directory is created!\")"
      ],
      "metadata": {
        "colab": {
          "base_uri": "https://localhost:8080/"
        },
        "id": "R3z4Dnr_2T67",
        "outputId": "9a50c789-dd40-4eeb-9c9b-5de715b503b3"
      },
      "execution_count": 3,
      "outputs": [
        {
          "output_type": "stream",
          "name": "stdout",
          "text": [
            "/content/drive/MyDrive/AffectNet/train_set/train_set /content/drive/MyDrive/AffectNet/val_set/val_set\n"
          ]
        }
      ]
    },
    {
      "cell_type": "code",
      "source": [
        "# import random\n",
        "# t = random.randint(0,10)\n",
        "# print (t)\n",
        "# expression_path = os.path.join(VAL_DIR,ANNOTATION_DIR,str(t)+'_exp.npy')\n",
        "# arousal_path = os.path.join(VAL_DIR,ANNOTATION_DIR,str(t)+'_aro.npy')\n",
        "# valence_path = os.path.join(VAL_DIR,ANNOTATION_DIR,str(t)+'_val.npy')\n",
        "# location_path = os.path.join(VAL_DIR,ANNOTATION_DIR,str(t)+'_lnd.npy')\n",
        "# print(valence_path)\n",
        "# try:\n",
        "#   data = np.load(location_path)\n",
        "#   # data = data.astype(int)\n",
        "# except:\n",
        "#   print(f'Not able to access image at {location_path.split(\"/\")[-1]}')\n",
        "#   pass\n",
        "# type(data)"
      ],
      "metadata": {
        "id": "iL2MfOPX2Yxp"
      },
      "execution_count": 4,
      "outputs": []
    },
    {
      "cell_type": "code",
      "source": [
        "import os\n",
        "from PIL import Image\n",
        "from torch.utils.data import Dataset\n",
        "import torchvision.transforms as transforms\n",
        "\n",
        "class AffectNetDataset(Dataset):\n",
        "    def __init__(self, image_dir, annotation_dir, transform=None, mean_std = False):\n",
        "        self.image_dir = image_dir\n",
        "        self.annotation_dir = annotation_dir\n",
        "        self.transform = transform\n",
        "        self.image_list = os.listdir(self.image_dir)\n",
        "        self.mean_std = mean_std\n",
        "\n",
        "    def __len__(self):\n",
        "        return len(self.image_list)\n",
        "\n",
        "    def __getitem__(self, index):\n",
        "        image_name = self.image_list[index]\n",
        "        image_path = os.path.join(self.image_dir, image_name)\n",
        "        expression_path = os.path.join(self.annotation_dir, image_name.replace('.jpg', '_exp.npy'))\n",
        "        arousal_path = os.path.join(self.annotation_dir, image_name.replace('.jpg', '_aro.npy'))\n",
        "        valence_path = os.path.join(self.annotation_dir, image_name.replace('.jpg', '_val.npy'))\n",
        "        landmarks_path = os.path.join(self.annotation_dir, image_name.replace('.jpg', '_lnd.npy'))\n",
        "\n",
        "        \n",
        "        image = Image.open(image_path).convert('RGB')\n",
        "        expression = int(self._read_annotation_file(expression_path).item())\n",
        "        arousal = float(self._read_annotation_file(arousal_path).item())\n",
        "        valence = float(self._read_annotation_file(valence_path).item()) \n",
        "        landmarks = self._read_annotation_file(landmarks_path) # 68x2 = 136\n",
        "\n",
        "        if self.mean_std:\n",
        "          self.transform = transforms.ToTensor()\n",
        "        if self.transform is not None:\n",
        "          image = self.transform(image)\n",
        "\n",
        "        return image, expression,arousal, valence, landmarks\n",
        "\n",
        "    def _read_annotation_file(self, annotation_path):\n",
        "        try:\n",
        "          data = np.load(annotation_path)\n",
        "        except:\n",
        "          pass\n",
        "        return data\n"
      ],
      "metadata": {
        "id": "CaX_HZlh3M8X"
      },
      "execution_count": 5,
      "outputs": []
    },
    {
      "cell_type": "code",
      "source": [
        "# TODO\n",
        "# Mean, Std\n",
        "# Transforms - Crop, Rotation\n",
        "# "
      ],
      "metadata": {
        "id": "SXOhK8Tk_g9F"
      },
      "execution_count": 6,
      "outputs": []
    },
    {
      "cell_type": "code",
      "source": [
        "# Create the dataset\n",
        "image_dir = os.path.join(VAL_DIR,IMAGE_DIR)\n",
        "label_dir = os.path.join(VAL_DIR,ANNOTATION_DIR)\n",
        "print(image_dir, label_dir)\n",
        "# transform = transforms.ToTensor()\n",
        "\n",
        "transform = transforms.Compose([\n",
        "    transforms.Resize((224)),\n",
        "    transforms.ToTensor(),\n",
        "    # Add more transformations as needed\n",
        "])\n",
        "\n",
        "\n",
        "\n",
        "dataset = AffectNetDataset(image_dir, label_dir, transform=transform)"
      ],
      "metadata": {
        "colab": {
          "base_uri": "https://localhost:8080/"
        },
        "id": "W3EU31uI9lKU",
        "outputId": "348085ad-da98-4814-e133-d20e242ec662"
      },
      "execution_count": 7,
      "outputs": [
        {
          "output_type": "stream",
          "name": "stdout",
          "text": [
            "/content/drive/MyDrive/AffectNet/val_set/val_set/images /content/drive/MyDrive/AffectNet/val_set/val_set/annotations\n"
          ]
        }
      ]
    },
    {
      "cell_type": "code",
      "source": [
        "# # Calculate the mean and standard deviation - Ignoring it for now\n",
        "# dataset_mean_std_dev = AffectNetDataset(image_dir, label_dir, mean_std= True)\n",
        "# image, expression,arousal, valence, landmarks= next(iter(dataset_mean_std_dev))\n",
        "# # print(image)\n",
        "# # print(expression,arousal, valence, \"\\n\",landmarks)\n",
        "\n",
        "# # Calculate the mean and standard deviation\n",
        "# mean = torch.zeros(3)\n",
        "# std = torch.zeros(3)\n",
        "# for image, expression,arousal, valence, landmarks in dataset_mean_std_dev:\n",
        "#     mean += torch.mean(image, dim=(1, 2))\n",
        "#     std += torch.std(image, dim=(1, 2))\n",
        "\n",
        "# mean /= len(dataset_mean_std_dev)\n",
        "# std /= len(dataset_mean_std_dev)\n",
        "\n",
        "# print(\"Mean:\", mean) #\n",
        "# print(\"Standard Deviation:\", std) #"
      ],
      "metadata": {
        "id": "AuUFDKU2Dz8w"
      },
      "execution_count": 8,
      "outputs": []
    },
    {
      "cell_type": "code",
      "source": [
        "# # Example image and annotation\n",
        "# image, expression,arousal, valence, landmarks= next(iter(dataset))\n",
        "# # image.show()\n",
        "# print(image, \"\\n\", expression,arousal, valence, \"\\n\",landmarks)"
      ],
      "metadata": {
        "id": "_CqkWwMd-sFk"
      },
      "execution_count": 9,
      "outputs": []
    },
    {
      "cell_type": "code",
      "source": [
        "import matplotlib.pyplot as plt\n",
        "def imshow(img):\n",
        "  '''\n",
        "  function to show an image\n",
        "  '''\n",
        "  # img = img / 2 + 0.5     # unnormalize, if mean and std deviation used\n",
        "  npimg = img.numpy()\n",
        "  plt.imshow(np.transpose(npimg, (1, 2, 0)))"
      ],
      "metadata": {
        "id": "ZHwgIw4JM2PM"
      },
      "execution_count": 10,
      "outputs": []
    },
    {
      "cell_type": "code",
      "source": [
        "#@title Settings and Hyperparams\n",
        "import torch\n",
        "\n",
        "RANDOM_SEED = 42\n",
        "BATCH_SIZE = 128\n",
        "NUM_EPOCHS = 2\n",
        "DEVICE = torch.device('cuda' if torch.cuda.is_available() else 'cpu')\n",
        "SHUFFLE = True\n",
        "\n"
      ],
      "metadata": {
        "id": "ijgjSOy7jgXD"
      },
      "execution_count": 11,
      "outputs": []
    },
    {
      "cell_type": "code",
      "source": [
        "from torch.utils.data import DataLoader\n",
        "import torchvision\n",
        "\n",
        "# Create the data loader\n",
        "val_loader = DataLoader(dataset, \n",
        "                        batch_size=BATCH_SIZE, \n",
        "                        shuffle=SHUFFLE)\n",
        "\n",
        "# checking for sample images\n",
        "# images, expressions, arousals, valences, landmarks = next(iter(val_loader))\n",
        "# imshow(torchvision.utils.make_grid(images))\n",
        "# print(expressions,arousals, valences, \"\\n\",landmarks)\n",
        "\n"
      ],
      "metadata": {
        "id": "zeA8KqP_-A1N"
      },
      "execution_count": 12,
      "outputs": []
    },
    {
      "cell_type": "code",
      "source": [
        "#@title Model - Resnet 34\n",
        "\n",
        "import torch\n",
        "import torchvision.models as models\n",
        "\n",
        "# Load the pre-trained ResNet-34 model\n",
        "model = models.resnet34(pretrained = True) # temporary to check\n",
        "# model = models.resnet34(pretrained = False)\n",
        "\n",
        "# Modify the first layer to accept 3-channel input\n",
        "num_channels = 3\n",
        "model.conv1 = torch.nn.Conv2d(num_channels, 64, kernel_size=7, stride=2, padding=3, bias=False)\n",
        "# Modify last  layer to provide 8 outputs\n",
        "model.fc = torch.nn.Linear(in_features=512, out_features=8, bias=True)\n"
      ],
      "metadata": {
        "colab": {
          "base_uri": "https://localhost:8080/"
        },
        "id": "fldoFOI3BeRT",
        "outputId": "9b5d489b-7d45-4236-fd08-ac71c315ff7f"
      },
      "execution_count": 13,
      "outputs": [
        {
          "output_type": "stream",
          "name": "stderr",
          "text": [
            "/usr/local/lib/python3.10/dist-packages/torchvision/models/_utils.py:208: UserWarning: The parameter 'pretrained' is deprecated since 0.13 and may be removed in the future, please use 'weights' instead.\n",
            "  warnings.warn(\n",
            "/usr/local/lib/python3.10/dist-packages/torchvision/models/_utils.py:223: UserWarning: Arguments other than a weight enum or `None` for 'weights' are deprecated since 0.13 and may be removed in the future. The current behavior is equivalent to passing `weights=ResNet34_Weights.IMAGENET1K_V1`. You can also use `weights=ResNet34_Weights.DEFAULT` to get the most up-to-date weights.\n",
            "  warnings.warn(msg)\n",
            "Downloading: \"https://download.pytorch.org/models/resnet34-b627a593.pth\" to /root/.cache/torch/hub/checkpoints/resnet34-b627a593.pth\n",
            "100%|██████████| 83.3M/83.3M [00:00<00:00, 230MB/s]\n"
          ]
        }
      ]
    },
    {
      "cell_type": "code",
      "source": [
        "model"
      ],
      "metadata": {
        "colab": {
          "base_uri": "https://localhost:8080/"
        },
        "id": "bGDEKEXe9Gf-",
        "outputId": "6f7f7790-cbcf-4aa4-e1b5-5a16b8f510ca"
      },
      "execution_count": 14,
      "outputs": [
        {
          "output_type": "execute_result",
          "data": {
            "text/plain": [
              "ResNet(\n",
              "  (conv1): Conv2d(3, 64, kernel_size=(7, 7), stride=(2, 2), padding=(3, 3), bias=False)\n",
              "  (bn1): BatchNorm2d(64, eps=1e-05, momentum=0.1, affine=True, track_running_stats=True)\n",
              "  (relu): ReLU(inplace=True)\n",
              "  (maxpool): MaxPool2d(kernel_size=3, stride=2, padding=1, dilation=1, ceil_mode=False)\n",
              "  (layer1): Sequential(\n",
              "    (0): BasicBlock(\n",
              "      (conv1): Conv2d(64, 64, kernel_size=(3, 3), stride=(1, 1), padding=(1, 1), bias=False)\n",
              "      (bn1): BatchNorm2d(64, eps=1e-05, momentum=0.1, affine=True, track_running_stats=True)\n",
              "      (relu): ReLU(inplace=True)\n",
              "      (conv2): Conv2d(64, 64, kernel_size=(3, 3), stride=(1, 1), padding=(1, 1), bias=False)\n",
              "      (bn2): BatchNorm2d(64, eps=1e-05, momentum=0.1, affine=True, track_running_stats=True)\n",
              "    )\n",
              "    (1): BasicBlock(\n",
              "      (conv1): Conv2d(64, 64, kernel_size=(3, 3), stride=(1, 1), padding=(1, 1), bias=False)\n",
              "      (bn1): BatchNorm2d(64, eps=1e-05, momentum=0.1, affine=True, track_running_stats=True)\n",
              "      (relu): ReLU(inplace=True)\n",
              "      (conv2): Conv2d(64, 64, kernel_size=(3, 3), stride=(1, 1), padding=(1, 1), bias=False)\n",
              "      (bn2): BatchNorm2d(64, eps=1e-05, momentum=0.1, affine=True, track_running_stats=True)\n",
              "    )\n",
              "    (2): BasicBlock(\n",
              "      (conv1): Conv2d(64, 64, kernel_size=(3, 3), stride=(1, 1), padding=(1, 1), bias=False)\n",
              "      (bn1): BatchNorm2d(64, eps=1e-05, momentum=0.1, affine=True, track_running_stats=True)\n",
              "      (relu): ReLU(inplace=True)\n",
              "      (conv2): Conv2d(64, 64, kernel_size=(3, 3), stride=(1, 1), padding=(1, 1), bias=False)\n",
              "      (bn2): BatchNorm2d(64, eps=1e-05, momentum=0.1, affine=True, track_running_stats=True)\n",
              "    )\n",
              "  )\n",
              "  (layer2): Sequential(\n",
              "    (0): BasicBlock(\n",
              "      (conv1): Conv2d(64, 128, kernel_size=(3, 3), stride=(2, 2), padding=(1, 1), bias=False)\n",
              "      (bn1): BatchNorm2d(128, eps=1e-05, momentum=0.1, affine=True, track_running_stats=True)\n",
              "      (relu): ReLU(inplace=True)\n",
              "      (conv2): Conv2d(128, 128, kernel_size=(3, 3), stride=(1, 1), padding=(1, 1), bias=False)\n",
              "      (bn2): BatchNorm2d(128, eps=1e-05, momentum=0.1, affine=True, track_running_stats=True)\n",
              "      (downsample): Sequential(\n",
              "        (0): Conv2d(64, 128, kernel_size=(1, 1), stride=(2, 2), bias=False)\n",
              "        (1): BatchNorm2d(128, eps=1e-05, momentum=0.1, affine=True, track_running_stats=True)\n",
              "      )\n",
              "    )\n",
              "    (1): BasicBlock(\n",
              "      (conv1): Conv2d(128, 128, kernel_size=(3, 3), stride=(1, 1), padding=(1, 1), bias=False)\n",
              "      (bn1): BatchNorm2d(128, eps=1e-05, momentum=0.1, affine=True, track_running_stats=True)\n",
              "      (relu): ReLU(inplace=True)\n",
              "      (conv2): Conv2d(128, 128, kernel_size=(3, 3), stride=(1, 1), padding=(1, 1), bias=False)\n",
              "      (bn2): BatchNorm2d(128, eps=1e-05, momentum=0.1, affine=True, track_running_stats=True)\n",
              "    )\n",
              "    (2): BasicBlock(\n",
              "      (conv1): Conv2d(128, 128, kernel_size=(3, 3), stride=(1, 1), padding=(1, 1), bias=False)\n",
              "      (bn1): BatchNorm2d(128, eps=1e-05, momentum=0.1, affine=True, track_running_stats=True)\n",
              "      (relu): ReLU(inplace=True)\n",
              "      (conv2): Conv2d(128, 128, kernel_size=(3, 3), stride=(1, 1), padding=(1, 1), bias=False)\n",
              "      (bn2): BatchNorm2d(128, eps=1e-05, momentum=0.1, affine=True, track_running_stats=True)\n",
              "    )\n",
              "    (3): BasicBlock(\n",
              "      (conv1): Conv2d(128, 128, kernel_size=(3, 3), stride=(1, 1), padding=(1, 1), bias=False)\n",
              "      (bn1): BatchNorm2d(128, eps=1e-05, momentum=0.1, affine=True, track_running_stats=True)\n",
              "      (relu): ReLU(inplace=True)\n",
              "      (conv2): Conv2d(128, 128, kernel_size=(3, 3), stride=(1, 1), padding=(1, 1), bias=False)\n",
              "      (bn2): BatchNorm2d(128, eps=1e-05, momentum=0.1, affine=True, track_running_stats=True)\n",
              "    )\n",
              "  )\n",
              "  (layer3): Sequential(\n",
              "    (0): BasicBlock(\n",
              "      (conv1): Conv2d(128, 256, kernel_size=(3, 3), stride=(2, 2), padding=(1, 1), bias=False)\n",
              "      (bn1): BatchNorm2d(256, eps=1e-05, momentum=0.1, affine=True, track_running_stats=True)\n",
              "      (relu): ReLU(inplace=True)\n",
              "      (conv2): Conv2d(256, 256, kernel_size=(3, 3), stride=(1, 1), padding=(1, 1), bias=False)\n",
              "      (bn2): BatchNorm2d(256, eps=1e-05, momentum=0.1, affine=True, track_running_stats=True)\n",
              "      (downsample): Sequential(\n",
              "        (0): Conv2d(128, 256, kernel_size=(1, 1), stride=(2, 2), bias=False)\n",
              "        (1): BatchNorm2d(256, eps=1e-05, momentum=0.1, affine=True, track_running_stats=True)\n",
              "      )\n",
              "    )\n",
              "    (1): BasicBlock(\n",
              "      (conv1): Conv2d(256, 256, kernel_size=(3, 3), stride=(1, 1), padding=(1, 1), bias=False)\n",
              "      (bn1): BatchNorm2d(256, eps=1e-05, momentum=0.1, affine=True, track_running_stats=True)\n",
              "      (relu): ReLU(inplace=True)\n",
              "      (conv2): Conv2d(256, 256, kernel_size=(3, 3), stride=(1, 1), padding=(1, 1), bias=False)\n",
              "      (bn2): BatchNorm2d(256, eps=1e-05, momentum=0.1, affine=True, track_running_stats=True)\n",
              "    )\n",
              "    (2): BasicBlock(\n",
              "      (conv1): Conv2d(256, 256, kernel_size=(3, 3), stride=(1, 1), padding=(1, 1), bias=False)\n",
              "      (bn1): BatchNorm2d(256, eps=1e-05, momentum=0.1, affine=True, track_running_stats=True)\n",
              "      (relu): ReLU(inplace=True)\n",
              "      (conv2): Conv2d(256, 256, kernel_size=(3, 3), stride=(1, 1), padding=(1, 1), bias=False)\n",
              "      (bn2): BatchNorm2d(256, eps=1e-05, momentum=0.1, affine=True, track_running_stats=True)\n",
              "    )\n",
              "    (3): BasicBlock(\n",
              "      (conv1): Conv2d(256, 256, kernel_size=(3, 3), stride=(1, 1), padding=(1, 1), bias=False)\n",
              "      (bn1): BatchNorm2d(256, eps=1e-05, momentum=0.1, affine=True, track_running_stats=True)\n",
              "      (relu): ReLU(inplace=True)\n",
              "      (conv2): Conv2d(256, 256, kernel_size=(3, 3), stride=(1, 1), padding=(1, 1), bias=False)\n",
              "      (bn2): BatchNorm2d(256, eps=1e-05, momentum=0.1, affine=True, track_running_stats=True)\n",
              "    )\n",
              "    (4): BasicBlock(\n",
              "      (conv1): Conv2d(256, 256, kernel_size=(3, 3), stride=(1, 1), padding=(1, 1), bias=False)\n",
              "      (bn1): BatchNorm2d(256, eps=1e-05, momentum=0.1, affine=True, track_running_stats=True)\n",
              "      (relu): ReLU(inplace=True)\n",
              "      (conv2): Conv2d(256, 256, kernel_size=(3, 3), stride=(1, 1), padding=(1, 1), bias=False)\n",
              "      (bn2): BatchNorm2d(256, eps=1e-05, momentum=0.1, affine=True, track_running_stats=True)\n",
              "    )\n",
              "    (5): BasicBlock(\n",
              "      (conv1): Conv2d(256, 256, kernel_size=(3, 3), stride=(1, 1), padding=(1, 1), bias=False)\n",
              "      (bn1): BatchNorm2d(256, eps=1e-05, momentum=0.1, affine=True, track_running_stats=True)\n",
              "      (relu): ReLU(inplace=True)\n",
              "      (conv2): Conv2d(256, 256, kernel_size=(3, 3), stride=(1, 1), padding=(1, 1), bias=False)\n",
              "      (bn2): BatchNorm2d(256, eps=1e-05, momentum=0.1, affine=True, track_running_stats=True)\n",
              "    )\n",
              "  )\n",
              "  (layer4): Sequential(\n",
              "    (0): BasicBlock(\n",
              "      (conv1): Conv2d(256, 512, kernel_size=(3, 3), stride=(2, 2), padding=(1, 1), bias=False)\n",
              "      (bn1): BatchNorm2d(512, eps=1e-05, momentum=0.1, affine=True, track_running_stats=True)\n",
              "      (relu): ReLU(inplace=True)\n",
              "      (conv2): Conv2d(512, 512, kernel_size=(3, 3), stride=(1, 1), padding=(1, 1), bias=False)\n",
              "      (bn2): BatchNorm2d(512, eps=1e-05, momentum=0.1, affine=True, track_running_stats=True)\n",
              "      (downsample): Sequential(\n",
              "        (0): Conv2d(256, 512, kernel_size=(1, 1), stride=(2, 2), bias=False)\n",
              "        (1): BatchNorm2d(512, eps=1e-05, momentum=0.1, affine=True, track_running_stats=True)\n",
              "      )\n",
              "    )\n",
              "    (1): BasicBlock(\n",
              "      (conv1): Conv2d(512, 512, kernel_size=(3, 3), stride=(1, 1), padding=(1, 1), bias=False)\n",
              "      (bn1): BatchNorm2d(512, eps=1e-05, momentum=0.1, affine=True, track_running_stats=True)\n",
              "      (relu): ReLU(inplace=True)\n",
              "      (conv2): Conv2d(512, 512, kernel_size=(3, 3), stride=(1, 1), padding=(1, 1), bias=False)\n",
              "      (bn2): BatchNorm2d(512, eps=1e-05, momentum=0.1, affine=True, track_running_stats=True)\n",
              "    )\n",
              "    (2): BasicBlock(\n",
              "      (conv1): Conv2d(512, 512, kernel_size=(3, 3), stride=(1, 1), padding=(1, 1), bias=False)\n",
              "      (bn1): BatchNorm2d(512, eps=1e-05, momentum=0.1, affine=True, track_running_stats=True)\n",
              "      (relu): ReLU(inplace=True)\n",
              "      (conv2): Conv2d(512, 512, kernel_size=(3, 3), stride=(1, 1), padding=(1, 1), bias=False)\n",
              "      (bn2): BatchNorm2d(512, eps=1e-05, momentum=0.1, affine=True, track_running_stats=True)\n",
              "    )\n",
              "  )\n",
              "  (avgpool): AdaptiveAvgPool2d(output_size=(1, 1))\n",
              "  (fc): Linear(in_features=512, out_features=8, bias=True)\n",
              ")"
            ]
          },
          "metadata": {},
          "execution_count": 14
        }
      ]
    },
    {
      "cell_type": "code",
      "source": [
        "! pip install torch-summary\n",
        "from torchsummary import summary\n",
        "summary(model, (3, 224, 224))"
      ],
      "metadata": {
        "colab": {
          "base_uri": "https://localhost:8080/"
        },
        "id": "yTmO1AMYxVAX",
        "outputId": "323ebd79-d64b-4926-d7a9-3984e45c3cb4"
      },
      "execution_count": 15,
      "outputs": [
        {
          "output_type": "stream",
          "name": "stdout",
          "text": [
            "Looking in indexes: https://pypi.org/simple, https://us-python.pkg.dev/colab-wheels/public/simple/\n",
            "Collecting torch-summary\n",
            "  Downloading torch_summary-1.4.5-py3-none-any.whl (16 kB)\n",
            "Installing collected packages: torch-summary\n",
            "Successfully installed torch-summary-1.4.5\n",
            "==========================================================================================\n",
            "Layer (type:depth-idx)                   Output Shape              Param #\n",
            "==========================================================================================\n",
            "├─Conv2d: 1-1                            [-1, 64, 112, 112]        9,408\n",
            "├─BatchNorm2d: 1-2                       [-1, 64, 112, 112]        128\n",
            "├─ReLU: 1-3                              [-1, 64, 112, 112]        --\n",
            "├─MaxPool2d: 1-4                         [-1, 64, 56, 56]          --\n",
            "├─Sequential: 1-5                        [-1, 64, 56, 56]          --\n",
            "|    └─BasicBlock: 2-1                   [-1, 64, 56, 56]          --\n",
            "|    |    └─Conv2d: 3-1                  [-1, 64, 56, 56]          36,864\n",
            "|    |    └─BatchNorm2d: 3-2             [-1, 64, 56, 56]          128\n",
            "|    |    └─ReLU: 3-3                    [-1, 64, 56, 56]          --\n",
            "|    |    └─Conv2d: 3-4                  [-1, 64, 56, 56]          36,864\n",
            "|    |    └─BatchNorm2d: 3-5             [-1, 64, 56, 56]          128\n",
            "|    |    └─ReLU: 3-6                    [-1, 64, 56, 56]          --\n",
            "|    └─BasicBlock: 2-2                   [-1, 64, 56, 56]          --\n",
            "|    |    └─Conv2d: 3-7                  [-1, 64, 56, 56]          36,864\n",
            "|    |    └─BatchNorm2d: 3-8             [-1, 64, 56, 56]          128\n",
            "|    |    └─ReLU: 3-9                    [-1, 64, 56, 56]          --\n",
            "|    |    └─Conv2d: 3-10                 [-1, 64, 56, 56]          36,864\n",
            "|    |    └─BatchNorm2d: 3-11            [-1, 64, 56, 56]          128\n",
            "|    |    └─ReLU: 3-12                   [-1, 64, 56, 56]          --\n",
            "|    └─BasicBlock: 2-3                   [-1, 64, 56, 56]          --\n",
            "|    |    └─Conv2d: 3-13                 [-1, 64, 56, 56]          36,864\n",
            "|    |    └─BatchNorm2d: 3-14            [-1, 64, 56, 56]          128\n",
            "|    |    └─ReLU: 3-15                   [-1, 64, 56, 56]          --\n",
            "|    |    └─Conv2d: 3-16                 [-1, 64, 56, 56]          36,864\n",
            "|    |    └─BatchNorm2d: 3-17            [-1, 64, 56, 56]          128\n",
            "|    |    └─ReLU: 3-18                   [-1, 64, 56, 56]          --\n",
            "├─Sequential: 1-6                        [-1, 128, 28, 28]         --\n",
            "|    └─BasicBlock: 2-4                   [-1, 128, 28, 28]         --\n",
            "|    |    └─Conv2d: 3-19                 [-1, 128, 28, 28]         73,728\n",
            "|    |    └─BatchNorm2d: 3-20            [-1, 128, 28, 28]         256\n",
            "|    |    └─ReLU: 3-21                   [-1, 128, 28, 28]         --\n",
            "|    |    └─Conv2d: 3-22                 [-1, 128, 28, 28]         147,456\n",
            "|    |    └─BatchNorm2d: 3-23            [-1, 128, 28, 28]         256\n",
            "|    |    └─Sequential: 3-24             [-1, 128, 28, 28]         8,448\n",
            "|    |    └─ReLU: 3-25                   [-1, 128, 28, 28]         --\n",
            "|    └─BasicBlock: 2-5                   [-1, 128, 28, 28]         --\n",
            "|    |    └─Conv2d: 3-26                 [-1, 128, 28, 28]         147,456\n",
            "|    |    └─BatchNorm2d: 3-27            [-1, 128, 28, 28]         256\n",
            "|    |    └─ReLU: 3-28                   [-1, 128, 28, 28]         --\n",
            "|    |    └─Conv2d: 3-29                 [-1, 128, 28, 28]         147,456\n",
            "|    |    └─BatchNorm2d: 3-30            [-1, 128, 28, 28]         256\n",
            "|    |    └─ReLU: 3-31                   [-1, 128, 28, 28]         --\n",
            "|    └─BasicBlock: 2-6                   [-1, 128, 28, 28]         --\n",
            "|    |    └─Conv2d: 3-32                 [-1, 128, 28, 28]         147,456\n",
            "|    |    └─BatchNorm2d: 3-33            [-1, 128, 28, 28]         256\n",
            "|    |    └─ReLU: 3-34                   [-1, 128, 28, 28]         --\n",
            "|    |    └─Conv2d: 3-35                 [-1, 128, 28, 28]         147,456\n",
            "|    |    └─BatchNorm2d: 3-36            [-1, 128, 28, 28]         256\n",
            "|    |    └─ReLU: 3-37                   [-1, 128, 28, 28]         --\n",
            "|    └─BasicBlock: 2-7                   [-1, 128, 28, 28]         --\n",
            "|    |    └─Conv2d: 3-38                 [-1, 128, 28, 28]         147,456\n",
            "|    |    └─BatchNorm2d: 3-39            [-1, 128, 28, 28]         256\n",
            "|    |    └─ReLU: 3-40                   [-1, 128, 28, 28]         --\n",
            "|    |    └─Conv2d: 3-41                 [-1, 128, 28, 28]         147,456\n",
            "|    |    └─BatchNorm2d: 3-42            [-1, 128, 28, 28]         256\n",
            "|    |    └─ReLU: 3-43                   [-1, 128, 28, 28]         --\n",
            "├─Sequential: 1-7                        [-1, 256, 14, 14]         --\n",
            "|    └─BasicBlock: 2-8                   [-1, 256, 14, 14]         --\n",
            "|    |    └─Conv2d: 3-44                 [-1, 256, 14, 14]         294,912\n",
            "|    |    └─BatchNorm2d: 3-45            [-1, 256, 14, 14]         512\n",
            "|    |    └─ReLU: 3-46                   [-1, 256, 14, 14]         --\n",
            "|    |    └─Conv2d: 3-47                 [-1, 256, 14, 14]         589,824\n",
            "|    |    └─BatchNorm2d: 3-48            [-1, 256, 14, 14]         512\n",
            "|    |    └─Sequential: 3-49             [-1, 256, 14, 14]         33,280\n",
            "|    |    └─ReLU: 3-50                   [-1, 256, 14, 14]         --\n",
            "|    └─BasicBlock: 2-9                   [-1, 256, 14, 14]         --\n",
            "|    |    └─Conv2d: 3-51                 [-1, 256, 14, 14]         589,824\n",
            "|    |    └─BatchNorm2d: 3-52            [-1, 256, 14, 14]         512\n",
            "|    |    └─ReLU: 3-53                   [-1, 256, 14, 14]         --\n",
            "|    |    └─Conv2d: 3-54                 [-1, 256, 14, 14]         589,824\n",
            "|    |    └─BatchNorm2d: 3-55            [-1, 256, 14, 14]         512\n",
            "|    |    └─ReLU: 3-56                   [-1, 256, 14, 14]         --\n",
            "|    └─BasicBlock: 2-10                  [-1, 256, 14, 14]         --\n",
            "|    |    └─Conv2d: 3-57                 [-1, 256, 14, 14]         589,824\n",
            "|    |    └─BatchNorm2d: 3-58            [-1, 256, 14, 14]         512\n",
            "|    |    └─ReLU: 3-59                   [-1, 256, 14, 14]         --\n",
            "|    |    └─Conv2d: 3-60                 [-1, 256, 14, 14]         589,824\n",
            "|    |    └─BatchNorm2d: 3-61            [-1, 256, 14, 14]         512\n",
            "|    |    └─ReLU: 3-62                   [-1, 256, 14, 14]         --\n",
            "|    └─BasicBlock: 2-11                  [-1, 256, 14, 14]         --\n",
            "|    |    └─Conv2d: 3-63                 [-1, 256, 14, 14]         589,824\n",
            "|    |    └─BatchNorm2d: 3-64            [-1, 256, 14, 14]         512\n",
            "|    |    └─ReLU: 3-65                   [-1, 256, 14, 14]         --\n",
            "|    |    └─Conv2d: 3-66                 [-1, 256, 14, 14]         589,824\n",
            "|    |    └─BatchNorm2d: 3-67            [-1, 256, 14, 14]         512\n",
            "|    |    └─ReLU: 3-68                   [-1, 256, 14, 14]         --\n",
            "|    └─BasicBlock: 2-12                  [-1, 256, 14, 14]         --\n",
            "|    |    └─Conv2d: 3-69                 [-1, 256, 14, 14]         589,824\n",
            "|    |    └─BatchNorm2d: 3-70            [-1, 256, 14, 14]         512\n",
            "|    |    └─ReLU: 3-71                   [-1, 256, 14, 14]         --\n",
            "|    |    └─Conv2d: 3-72                 [-1, 256, 14, 14]         589,824\n",
            "|    |    └─BatchNorm2d: 3-73            [-1, 256, 14, 14]         512\n",
            "|    |    └─ReLU: 3-74                   [-1, 256, 14, 14]         --\n",
            "|    └─BasicBlock: 2-13                  [-1, 256, 14, 14]         --\n",
            "|    |    └─Conv2d: 3-75                 [-1, 256, 14, 14]         589,824\n",
            "|    |    └─BatchNorm2d: 3-76            [-1, 256, 14, 14]         512\n",
            "|    |    └─ReLU: 3-77                   [-1, 256, 14, 14]         --\n",
            "|    |    └─Conv2d: 3-78                 [-1, 256, 14, 14]         589,824\n",
            "|    |    └─BatchNorm2d: 3-79            [-1, 256, 14, 14]         512\n",
            "|    |    └─ReLU: 3-80                   [-1, 256, 14, 14]         --\n",
            "├─Sequential: 1-8                        [-1, 512, 7, 7]           --\n",
            "|    └─BasicBlock: 2-14                  [-1, 512, 7, 7]           --\n",
            "|    |    └─Conv2d: 3-81                 [-1, 512, 7, 7]           1,179,648\n",
            "|    |    └─BatchNorm2d: 3-82            [-1, 512, 7, 7]           1,024\n",
            "|    |    └─ReLU: 3-83                   [-1, 512, 7, 7]           --\n",
            "|    |    └─Conv2d: 3-84                 [-1, 512, 7, 7]           2,359,296\n",
            "|    |    └─BatchNorm2d: 3-85            [-1, 512, 7, 7]           1,024\n",
            "|    |    └─Sequential: 3-86             [-1, 512, 7, 7]           132,096\n",
            "|    |    └─ReLU: 3-87                   [-1, 512, 7, 7]           --\n",
            "|    └─BasicBlock: 2-15                  [-1, 512, 7, 7]           --\n",
            "|    |    └─Conv2d: 3-88                 [-1, 512, 7, 7]           2,359,296\n",
            "|    |    └─BatchNorm2d: 3-89            [-1, 512, 7, 7]           1,024\n",
            "|    |    └─ReLU: 3-90                   [-1, 512, 7, 7]           --\n",
            "|    |    └─Conv2d: 3-91                 [-1, 512, 7, 7]           2,359,296\n",
            "|    |    └─BatchNorm2d: 3-92            [-1, 512, 7, 7]           1,024\n",
            "|    |    └─ReLU: 3-93                   [-1, 512, 7, 7]           --\n",
            "|    └─BasicBlock: 2-16                  [-1, 512, 7, 7]           --\n",
            "|    |    └─Conv2d: 3-94                 [-1, 512, 7, 7]           2,359,296\n",
            "|    |    └─BatchNorm2d: 3-95            [-1, 512, 7, 7]           1,024\n",
            "|    |    └─ReLU: 3-96                   [-1, 512, 7, 7]           --\n",
            "|    |    └─Conv2d: 3-97                 [-1, 512, 7, 7]           2,359,296\n",
            "|    |    └─BatchNorm2d: 3-98            [-1, 512, 7, 7]           1,024\n",
            "|    |    └─ReLU: 3-99                   [-1, 512, 7, 7]           --\n",
            "├─AdaptiveAvgPool2d: 1-9                 [-1, 512, 1, 1]           --\n",
            "├─Linear: 1-10                           [-1, 8]                   4,104\n",
            "==========================================================================================\n",
            "Total params: 21,288,776\n",
            "Trainable params: 21,288,776\n",
            "Non-trainable params: 0\n",
            "Total mult-adds (G): 3.71\n",
            "==========================================================================================\n",
            "Input size (MB): 0.57\n",
            "Forward/backward pass size (MB): 57.04\n",
            "Params size (MB): 81.21\n",
            "Estimated Total Size (MB): 138.82\n",
            "==========================================================================================\n"
          ]
        },
        {
          "output_type": "execute_result",
          "data": {
            "text/plain": [
              "==========================================================================================\n",
              "Layer (type:depth-idx)                   Output Shape              Param #\n",
              "==========================================================================================\n",
              "├─Conv2d: 1-1                            [-1, 64, 112, 112]        9,408\n",
              "├─BatchNorm2d: 1-2                       [-1, 64, 112, 112]        128\n",
              "├─ReLU: 1-3                              [-1, 64, 112, 112]        --\n",
              "├─MaxPool2d: 1-4                         [-1, 64, 56, 56]          --\n",
              "├─Sequential: 1-5                        [-1, 64, 56, 56]          --\n",
              "|    └─BasicBlock: 2-1                   [-1, 64, 56, 56]          --\n",
              "|    |    └─Conv2d: 3-1                  [-1, 64, 56, 56]          36,864\n",
              "|    |    └─BatchNorm2d: 3-2             [-1, 64, 56, 56]          128\n",
              "|    |    └─ReLU: 3-3                    [-1, 64, 56, 56]          --\n",
              "|    |    └─Conv2d: 3-4                  [-1, 64, 56, 56]          36,864\n",
              "|    |    └─BatchNorm2d: 3-5             [-1, 64, 56, 56]          128\n",
              "|    |    └─ReLU: 3-6                    [-1, 64, 56, 56]          --\n",
              "|    └─BasicBlock: 2-2                   [-1, 64, 56, 56]          --\n",
              "|    |    └─Conv2d: 3-7                  [-1, 64, 56, 56]          36,864\n",
              "|    |    └─BatchNorm2d: 3-8             [-1, 64, 56, 56]          128\n",
              "|    |    └─ReLU: 3-9                    [-1, 64, 56, 56]          --\n",
              "|    |    └─Conv2d: 3-10                 [-1, 64, 56, 56]          36,864\n",
              "|    |    └─BatchNorm2d: 3-11            [-1, 64, 56, 56]          128\n",
              "|    |    └─ReLU: 3-12                   [-1, 64, 56, 56]          --\n",
              "|    └─BasicBlock: 2-3                   [-1, 64, 56, 56]          --\n",
              "|    |    └─Conv2d: 3-13                 [-1, 64, 56, 56]          36,864\n",
              "|    |    └─BatchNorm2d: 3-14            [-1, 64, 56, 56]          128\n",
              "|    |    └─ReLU: 3-15                   [-1, 64, 56, 56]          --\n",
              "|    |    └─Conv2d: 3-16                 [-1, 64, 56, 56]          36,864\n",
              "|    |    └─BatchNorm2d: 3-17            [-1, 64, 56, 56]          128\n",
              "|    |    └─ReLU: 3-18                   [-1, 64, 56, 56]          --\n",
              "├─Sequential: 1-6                        [-1, 128, 28, 28]         --\n",
              "|    └─BasicBlock: 2-4                   [-1, 128, 28, 28]         --\n",
              "|    |    └─Conv2d: 3-19                 [-1, 128, 28, 28]         73,728\n",
              "|    |    └─BatchNorm2d: 3-20            [-1, 128, 28, 28]         256\n",
              "|    |    └─ReLU: 3-21                   [-1, 128, 28, 28]         --\n",
              "|    |    └─Conv2d: 3-22                 [-1, 128, 28, 28]         147,456\n",
              "|    |    └─BatchNorm2d: 3-23            [-1, 128, 28, 28]         256\n",
              "|    |    └─Sequential: 3-24             [-1, 128, 28, 28]         8,448\n",
              "|    |    └─ReLU: 3-25                   [-1, 128, 28, 28]         --\n",
              "|    └─BasicBlock: 2-5                   [-1, 128, 28, 28]         --\n",
              "|    |    └─Conv2d: 3-26                 [-1, 128, 28, 28]         147,456\n",
              "|    |    └─BatchNorm2d: 3-27            [-1, 128, 28, 28]         256\n",
              "|    |    └─ReLU: 3-28                   [-1, 128, 28, 28]         --\n",
              "|    |    └─Conv2d: 3-29                 [-1, 128, 28, 28]         147,456\n",
              "|    |    └─BatchNorm2d: 3-30            [-1, 128, 28, 28]         256\n",
              "|    |    └─ReLU: 3-31                   [-1, 128, 28, 28]         --\n",
              "|    └─BasicBlock: 2-6                   [-1, 128, 28, 28]         --\n",
              "|    |    └─Conv2d: 3-32                 [-1, 128, 28, 28]         147,456\n",
              "|    |    └─BatchNorm2d: 3-33            [-1, 128, 28, 28]         256\n",
              "|    |    └─ReLU: 3-34                   [-1, 128, 28, 28]         --\n",
              "|    |    └─Conv2d: 3-35                 [-1, 128, 28, 28]         147,456\n",
              "|    |    └─BatchNorm2d: 3-36            [-1, 128, 28, 28]         256\n",
              "|    |    └─ReLU: 3-37                   [-1, 128, 28, 28]         --\n",
              "|    └─BasicBlock: 2-7                   [-1, 128, 28, 28]         --\n",
              "|    |    └─Conv2d: 3-38                 [-1, 128, 28, 28]         147,456\n",
              "|    |    └─BatchNorm2d: 3-39            [-1, 128, 28, 28]         256\n",
              "|    |    └─ReLU: 3-40                   [-1, 128, 28, 28]         --\n",
              "|    |    └─Conv2d: 3-41                 [-1, 128, 28, 28]         147,456\n",
              "|    |    └─BatchNorm2d: 3-42            [-1, 128, 28, 28]         256\n",
              "|    |    └─ReLU: 3-43                   [-1, 128, 28, 28]         --\n",
              "├─Sequential: 1-7                        [-1, 256, 14, 14]         --\n",
              "|    └─BasicBlock: 2-8                   [-1, 256, 14, 14]         --\n",
              "|    |    └─Conv2d: 3-44                 [-1, 256, 14, 14]         294,912\n",
              "|    |    └─BatchNorm2d: 3-45            [-1, 256, 14, 14]         512\n",
              "|    |    └─ReLU: 3-46                   [-1, 256, 14, 14]         --\n",
              "|    |    └─Conv2d: 3-47                 [-1, 256, 14, 14]         589,824\n",
              "|    |    └─BatchNorm2d: 3-48            [-1, 256, 14, 14]         512\n",
              "|    |    └─Sequential: 3-49             [-1, 256, 14, 14]         33,280\n",
              "|    |    └─ReLU: 3-50                   [-1, 256, 14, 14]         --\n",
              "|    └─BasicBlock: 2-9                   [-1, 256, 14, 14]         --\n",
              "|    |    └─Conv2d: 3-51                 [-1, 256, 14, 14]         589,824\n",
              "|    |    └─BatchNorm2d: 3-52            [-1, 256, 14, 14]         512\n",
              "|    |    └─ReLU: 3-53                   [-1, 256, 14, 14]         --\n",
              "|    |    └─Conv2d: 3-54                 [-1, 256, 14, 14]         589,824\n",
              "|    |    └─BatchNorm2d: 3-55            [-1, 256, 14, 14]         512\n",
              "|    |    └─ReLU: 3-56                   [-1, 256, 14, 14]         --\n",
              "|    └─BasicBlock: 2-10                  [-1, 256, 14, 14]         --\n",
              "|    |    └─Conv2d: 3-57                 [-1, 256, 14, 14]         589,824\n",
              "|    |    └─BatchNorm2d: 3-58            [-1, 256, 14, 14]         512\n",
              "|    |    └─ReLU: 3-59                   [-1, 256, 14, 14]         --\n",
              "|    |    └─Conv2d: 3-60                 [-1, 256, 14, 14]         589,824\n",
              "|    |    └─BatchNorm2d: 3-61            [-1, 256, 14, 14]         512\n",
              "|    |    └─ReLU: 3-62                   [-1, 256, 14, 14]         --\n",
              "|    └─BasicBlock: 2-11                  [-1, 256, 14, 14]         --\n",
              "|    |    └─Conv2d: 3-63                 [-1, 256, 14, 14]         589,824\n",
              "|    |    └─BatchNorm2d: 3-64            [-1, 256, 14, 14]         512\n",
              "|    |    └─ReLU: 3-65                   [-1, 256, 14, 14]         --\n",
              "|    |    └─Conv2d: 3-66                 [-1, 256, 14, 14]         589,824\n",
              "|    |    └─BatchNorm2d: 3-67            [-1, 256, 14, 14]         512\n",
              "|    |    └─ReLU: 3-68                   [-1, 256, 14, 14]         --\n",
              "|    └─BasicBlock: 2-12                  [-1, 256, 14, 14]         --\n",
              "|    |    └─Conv2d: 3-69                 [-1, 256, 14, 14]         589,824\n",
              "|    |    └─BatchNorm2d: 3-70            [-1, 256, 14, 14]         512\n",
              "|    |    └─ReLU: 3-71                   [-1, 256, 14, 14]         --\n",
              "|    |    └─Conv2d: 3-72                 [-1, 256, 14, 14]         589,824\n",
              "|    |    └─BatchNorm2d: 3-73            [-1, 256, 14, 14]         512\n",
              "|    |    └─ReLU: 3-74                   [-1, 256, 14, 14]         --\n",
              "|    └─BasicBlock: 2-13                  [-1, 256, 14, 14]         --\n",
              "|    |    └─Conv2d: 3-75                 [-1, 256, 14, 14]         589,824\n",
              "|    |    └─BatchNorm2d: 3-76            [-1, 256, 14, 14]         512\n",
              "|    |    └─ReLU: 3-77                   [-1, 256, 14, 14]         --\n",
              "|    |    └─Conv2d: 3-78                 [-1, 256, 14, 14]         589,824\n",
              "|    |    └─BatchNorm2d: 3-79            [-1, 256, 14, 14]         512\n",
              "|    |    └─ReLU: 3-80                   [-1, 256, 14, 14]         --\n",
              "├─Sequential: 1-8                        [-1, 512, 7, 7]           --\n",
              "|    └─BasicBlock: 2-14                  [-1, 512, 7, 7]           --\n",
              "|    |    └─Conv2d: 3-81                 [-1, 512, 7, 7]           1,179,648\n",
              "|    |    └─BatchNorm2d: 3-82            [-1, 512, 7, 7]           1,024\n",
              "|    |    └─ReLU: 3-83                   [-1, 512, 7, 7]           --\n",
              "|    |    └─Conv2d: 3-84                 [-1, 512, 7, 7]           2,359,296\n",
              "|    |    └─BatchNorm2d: 3-85            [-1, 512, 7, 7]           1,024\n",
              "|    |    └─Sequential: 3-86             [-1, 512, 7, 7]           132,096\n",
              "|    |    └─ReLU: 3-87                   [-1, 512, 7, 7]           --\n",
              "|    └─BasicBlock: 2-15                  [-1, 512, 7, 7]           --\n",
              "|    |    └─Conv2d: 3-88                 [-1, 512, 7, 7]           2,359,296\n",
              "|    |    └─BatchNorm2d: 3-89            [-1, 512, 7, 7]           1,024\n",
              "|    |    └─ReLU: 3-90                   [-1, 512, 7, 7]           --\n",
              "|    |    └─Conv2d: 3-91                 [-1, 512, 7, 7]           2,359,296\n",
              "|    |    └─BatchNorm2d: 3-92            [-1, 512, 7, 7]           1,024\n",
              "|    |    └─ReLU: 3-93                   [-1, 512, 7, 7]           --\n",
              "|    └─BasicBlock: 2-16                  [-1, 512, 7, 7]           --\n",
              "|    |    └─Conv2d: 3-94                 [-1, 512, 7, 7]           2,359,296\n",
              "|    |    └─BatchNorm2d: 3-95            [-1, 512, 7, 7]           1,024\n",
              "|    |    └─ReLU: 3-96                   [-1, 512, 7, 7]           --\n",
              "|    |    └─Conv2d: 3-97                 [-1, 512, 7, 7]           2,359,296\n",
              "|    |    └─BatchNorm2d: 3-98            [-1, 512, 7, 7]           1,024\n",
              "|    |    └─ReLU: 3-99                   [-1, 512, 7, 7]           --\n",
              "├─AdaptiveAvgPool2d: 1-9                 [-1, 512, 1, 1]           --\n",
              "├─Linear: 1-10                           [-1, 8]                   4,104\n",
              "==========================================================================================\n",
              "Total params: 21,288,776\n",
              "Trainable params: 21,288,776\n",
              "Non-trainable params: 0\n",
              "Total mult-adds (G): 3.71\n",
              "==========================================================================================\n",
              "Input size (MB): 0.57\n",
              "Forward/backward pass size (MB): 57.04\n",
              "Params size (MB): 81.21\n",
              "Estimated Total Size (MB): 138.82\n",
              "=========================================================================================="
            ]
          },
          "metadata": {},
          "execution_count": 15
        }
      ]
    },
    {
      "cell_type": "code",
      "source": [],
      "metadata": {
        "id": "nkhTnnlmxtDd"
      },
      "execution_count": 15,
      "outputs": []
    },
    {
      "cell_type": "code",
      "source": [
        "#@title Training Function\n",
        "from tqdm import tqdm # for beautiful model training updates\n",
        "train_losses = [] # to capture train losses over training epochs\n",
        "train_accuracy = [] # to capture train accuracy over training epochs\n",
        "\n",
        "def train(model,device, train_loader,optimizer,epoch):\n",
        "  model.train() # setting the model in training \n",
        "  pbar = tqdm(train_loader) # putting the iterator in pbar\n",
        "  correct = 0 # for accuracy numerator\n",
        "  processed =0 # for accuracy denominator\n",
        "\n",
        "  for batch_idx, (images, expressions, _, _, _) in enumerate(pbar):\n",
        "    images, expressions = images.to(device), expressions.to(device)#sending data to CPU or GPU as per device\n",
        "    optimizer.zero_grad() # setting gradients to zero to avoid accumulation\n",
        "\n",
        "    y_preds = model(images) # forward pass, result captured in y_preds (plural as there are many images in a batch)\n",
        "    # the predictions are in one hot vector\n",
        "\n",
        "    loss = criterion(y_preds, expressions) # capturing loss\n",
        "\n",
        "    train_losses.append(loss) # to capture loss over many epochs\n",
        "\n",
        "    loss.backward() # backpropagation\n",
        "    optimizer.step() # updating the params\n",
        "\n",
        "    preds = y_preds.argmax(dim=1, keepdim=True)  # get the index of the max log-probability\n",
        "    correct += preds.eq(expressions.view_as(preds)).sum().item()\n",
        "    processed += len(images)\n",
        "\n",
        "\n",
        "    pbar.set_description(desc= f'Loss={loss.item()} Batch_id={batch_idx} Accuracy={100*correct/processed:0.2f}')\n",
        "\n",
        "    train_accuracy.append(100*correct/processed)"
      ],
      "metadata": {
        "id": "1pUxSM59yFcq"
      },
      "execution_count": 16,
      "outputs": []
    },
    {
      "cell_type": "code",
      "source": [
        "# Test Function\n",
        "test_losses = [] # to capture test losses \n",
        "test_accuracy = [] # to capture test accuracy \n",
        "\n",
        "def test(model,device, test_loader):\n",
        "  model.eval() # setting the model in evaluation mode\n",
        "  test_loss = 0\n",
        "  correct = 0 # for accuracy numerator\n",
        "\n",
        "  with torch.no_grad():\n",
        "    for (images, expressions, _, _, _)  in test_loader:\n",
        "      images, expressions = images.to(device), expressions.to(device)#sending data to CPU or GPU as per device\n",
        "      outputs = model(images) # forward pass, result captured in outputs (plural as there are many images in a batch)\n",
        "      # the outputs are in batch size x one hot vector \n",
        "\n",
        "      test_loss = criterion(outputs,expressions).item()  # sum up batch loss\n",
        "      preds = outputs.argmax(dim=1, keepdim=True)  # get the index of the max log-probability\n",
        "      correct += preds.eq(expressions.view_as(preds)).sum().item()\n",
        "\n",
        "    test_loss /= len(test_loader.dataset) # average test loss\n",
        "    test_losses.append(test_loss) # to capture loss over many batches\n",
        "\n",
        "    print('\\nTest set: Average loss: {:.4f}, Accuracy: {}/{} ({:.2f}%)\\n'.format(\n",
        "    test_loss, correct, len(test_loader.dataset),\n",
        "    100. * correct / len(test_loader.dataset)))\n",
        "\n",
        "    test_accuracy.append(100*correct/len(test_loader.dataset))"
      ],
      "metadata": {
        "id": "j0HyyovS80qf"
      },
      "execution_count": 17,
      "outputs": []
    },
    {
      "cell_type": "code",
      "source": [
        "import torch.optim as optim # for optimizer\n",
        "import torch.nn as nn\n",
        "\n",
        "\n",
        "criterion = nn.CrossEntropyLoss() # multi class classification loss\n",
        "optimizer = optim.SGD(model.parameters(), lr=0.001, momentum=0.9)"
      ],
      "metadata": {
        "id": "g8RGKIZG-e2U"
      },
      "execution_count": 18,
      "outputs": []
    },
    {
      "cell_type": "code",
      "source": [
        "from torchsummary.torchsummary import validate_user_params\n",
        "# EPOCHS = 50\n",
        "EPOCHS = 2\n",
        "model = model.to(DEVICE)\n",
        "\n",
        "for epoch in range(EPOCHS):\n",
        "    print(\"EPOCH:\", epoch+1)\n",
        "    train(model, device = DEVICE, train_loader = val_loader , optimizer = optimizer,epoch = epoch)\n",
        "    # test(model, device, testloader)"
      ],
      "metadata": {
        "colab": {
          "base_uri": "https://localhost:8080/"
        },
        "id": "891SSkNT-QOp",
        "outputId": "295bd8b8-5d09-4c0c-e3bc-a7a15dfb0462"
      },
      "execution_count": null,
      "outputs": [
        {
          "output_type": "stream",
          "name": "stdout",
          "text": [
            "EPOCH: 1\n"
          ]
        },
        {
          "output_type": "stream",
          "name": "stderr",
          "text": [
            "Loss=2.347100019454956 Batch_id=1 Accuracy=12.50:   6%|▋         | 2/31 [06:22<1:28:51, 183.86s/it]"
          ]
        }
      ]
    }
  ]
}